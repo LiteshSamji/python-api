{
 "cells": [
  {
   "cell_type": "markdown",
   "metadata": {},
   "source": [
    "# WeatherPy\n",
    "----\n",
    "\n",
    "#### Note\n",
    "* Instructions have been included for each segment. You do not have to follow them exactly, but they are included to help you think through the steps.\n",
    "\n",
    "Litesh Samji"
   ]
  },
  {
   "cell_type": "code",
   "execution_count": 2,
   "metadata": {
    "scrolled": true
   },
   "outputs": [],
   "source": [
    "# Dependencies and Setup\n",
    "import matplotlib.pyplot as plt\n",
    "import pandas as pd\n",
    "import numpy as np\n",
    "import requests\n",
    "import time\n",
    "from scipy.stats import linregress\n",
    "\n",
    "# Import API key\n",
    "from api_keys import weather_api_key\n",
    "\n",
    "# Incorporated citipy to determine city based on latitude and longitude\n",
    "from citipy import citipy\n",
    "\n",
    "# Output File (CSV)\n",
    "output_data_file = \"output_data/cities.csv\"\n",
    "\n",
    "# Range of latitudes and longitudes\n",
    "lat_range = (-90, 90)\n",
    "lng_range = (-180, 180)"
   ]
  },
  {
   "cell_type": "markdown",
   "metadata": {},
   "source": [
    "## Generate Cities List"
   ]
  },
  {
   "cell_type": "code",
   "execution_count": 15,
   "metadata": {},
   "outputs": [
    {
     "data": {
      "text/plain": [
       "641"
      ]
     },
     "execution_count": 15,
     "metadata": {},
     "output_type": "execute_result"
    }
   ],
   "source": [
    "# List for holding lat_lngs and cities\n",
    "lat_lngs = []\n",
    "cities = []\n",
    "\n",
    "# Create a set of random lat and lng combinations\n",
    "lats = np.random.uniform(lat_range[0], lat_range[1], size=1500)\n",
    "lngs = np.random.uniform(lng_range[0], lng_range[1], size=1500)\n",
    "lat_lngs = zip(lats, lngs)\n",
    "\n",
    "# Identify nearest city for each lat, lng combination\n",
    "for lat_lng in lat_lngs:\n",
    "    city = citipy.nearest_city(lat_lng[0], lat_lng[1]).city_name\n",
    "    \n",
    "    # If the city is unique, then add it to a our cities list\n",
    "    if city not in cities:\n",
    "        cities.append(city)\n",
    "\n",
    "# Print the city count to confirm sufficient count\n",
    "len(cities)"
   ]
  },
  {
   "cell_type": "markdown",
   "metadata": {},
   "source": [
    "### Perform API Calls\n",
    "* Perform a weather check on each city using a series of successive API calls.\n",
    "* Include a print log of each city as it'sbeing processed (with the city number and city name).\n"
   ]
  },
  {
   "cell_type": "code",
   "execution_count": 16,
   "metadata": {
    "scrolled": true
   },
   "outputs": [
    {
     "name": "stdout",
     "output_type": "stream",
     "text": [
      "City processed: naze\n",
      "City NOT found: taolanaro\n",
      "City processed: saint george\n",
      "City NOT found: barentsburg\n",
      "City processed: gazojak\n",
      "City processed: souillac\n",
      "City processed: colac\n",
      "City NOT found: illoqqortoormiut\n",
      "City processed: provost\n",
      "City processed: busselton\n",
      "City processed: biograd na moru\n",
      "City processed: yulara\n",
      "City processed: longyearbyen\n",
      "City processed: vaini\n",
      "City processed: kodiak\n",
      "City processed: kapaa\n",
      "City processed: atuona\n",
      "City processed: coffs harbour\n",
      "City processed: san carlos de bariloche\n",
      "City processed: cape town\n",
      "City processed: upernavik\n",
      "City processed: coxim\n",
      "City processed: torbay\n",
      "City processed: esperance\n",
      "City processed: ribeira grande\n",
      "City processed: mushie\n",
      "City processed: soe\n",
      "City processed: chapadinha\n",
      "City processed: east london\n",
      "City processed: dingle\n",
      "City processed: mataura\n",
      "City processed: sao filipe\n",
      "City processed: thompson\n",
      "City processed: kamiiso\n",
      "City processed: yurty\n",
      "City processed: puerto ayora\n",
      "City processed: kutum\n",
      "City processed: nuristan\n",
      "City processed: talnakh\n",
      "City processed: ponta do sol\n",
      "City processed: poum\n",
      "City processed: piacabucu\n",
      "City processed: khatanga\n",
      "City processed: mari-turek\n",
      "City processed: santo antonio do ica\n",
      "City processed: puntarenas\n",
      "City processed: north bend\n",
      "City processed: mulhouse\n",
      "City processed: tevriz\n",
      "City processed: anchorage\n",
      "City processed: albany\n",
      "City processed: verkhnevilyuysk\n",
      "City NOT found: fort saint john\n",
      "City processed: butaritari\n",
      "City processed: yellowknife\n",
      "City processed: cherskiy\n",
      "City processed: jieshou\n",
      "City processed: sitka\n",
      "City processed: new norfolk\n",
      "City processed: hithadhoo\n",
      "City processed: rikitea\n",
      "City processed: san rafael\n",
      "City NOT found: duz\n",
      "City processed: baykit\n",
      "City processed: coro\n",
      "City processed: debe\n",
      "City processed: stephenville\n",
      "City NOT found: andarab\n",
      "City processed: zaraza\n",
      "City processed: lyuban\n",
      "City processed: whitianga\n",
      "City processed: texarkana\n",
      "City processed: qaanaaq\n",
      "City processed: sukumo\n",
      "City processed: hilo\n",
      "City processed: shimoda\n",
      "City processed: lao cai\n",
      "City processed: port alfred\n",
      "City NOT found: umzimvubu\n",
      "City processed: atlantic city\n",
      "City processed: sawakin\n",
      "City processed: tuktoyaktuk\n",
      "City processed: myitkyina\n",
      "City processed: tiksi\n",
      "City processed: gemena\n",
      "City processed: bolzano\n",
      "City processed: ushuaia\n",
      "City processed: yumen\n",
      "City processed: bluff\n",
      "City processed: lichuan\n",
      "City processed: college\n",
      "City processed: hermanus\n",
      "City processed: calabozo\n",
      "City processed: riyadh\n",
      "City processed: raudeberg\n",
      "City processed: meulaboh\n",
      "City NOT found: palaiokhora\n",
      "City processed: punta arenas\n",
      "City processed: nanortalik\n",
      "City processed: lata\n",
      "City processed: bredasdorp\n",
      "City processed: ukrayinka\n",
      "City NOT found: louisbourg\n",
      "City processed: cockburn town\n",
      "City processed: saint-philippe\n",
      "City processed: kaitangata\n",
      "City processed: miri\n",
      "City processed: linfen\n",
      "City processed: clyde river\n",
      "City processed: jamestown\n",
      "City processed: general roca\n",
      "City processed: luzhou\n",
      "City processed: porto torres\n",
      "City processed: mahebourg\n",
      "City NOT found: tsihombe\n",
      "City processed: shizunai\n",
      "City processed: great yarmouth\n",
      "City processed: katsuura\n",
      "City processed: samana\n",
      "City NOT found: alotau\n",
      "City processed: lorengau\n",
      "City processed: carnarvon\n",
      "City processed: ayagoz\n",
      "City processed: salalah\n",
      "City processed: borne\n",
      "City processed: maningrida\n",
      "City processed: avarua\n",
      "City processed: priladozhskiy\n",
      "City processed: ambilobe\n",
      "City processed: la ronge\n",
      "City processed: mar del plata\n",
      "City processed: port elizabeth\n",
      "City processed: vostok\n",
      "City processed: san patricio\n",
      "City processed: hobart\n",
      "City NOT found: marcona\n",
      "City processed: rodrigues alves\n",
      "City NOT found: urdzhar\n",
      "City NOT found: belushya guba\n",
      "City processed: vestmannaeyjar\n",
      "City processed: sfantu gheorghe\n",
      "City processed: nikolskoye\n",
      "City processed: paamiut\n",
      "City processed: port moresby\n",
      "City processed: kudahuvadhoo\n",
      "City processed: giyani\n",
      "City processed: galesong\n",
      "City processed: dikson\n",
      "City processed: ankang\n",
      "City processed: kawalu\n",
      "City processed: ilulissat\n",
      "City processed: margate\n",
      "City processed: saskylakh\n",
      "City processed: constitucion\n",
      "City processed: puerto escondido\n",
      "City processed: abonnema\n",
      "City processed: severo-kurilsk\n",
      "City processed: tasiilaq\n",
      "City processed: sorland\n",
      "City NOT found: grand river south east\n",
      "City processed: siemiatycze\n",
      "City processed: znamenskoye\n",
      "City processed: lagoa\n",
      "City NOT found: palabuhanratu\n",
      "City processed: gravdal\n",
      "City processed: lebu\n",
      "City NOT found: kamenskoye\n",
      "City processed: norman wells\n",
      "City processed: klaksvik\n",
      "City NOT found: lolua\n",
      "City processed: pizhanka\n",
      "City processed: olinda\n",
      "City processed: marfino\n",
      "City processed: sorong\n",
      "City processed: biala podlaska\n",
      "City processed: cartagena del chaira\n",
      "City processed: joshimath\n",
      "City processed: boundiali\n",
      "City processed: ilebo\n",
      "City processed: santa rosa\n",
      "City processed: kroya\n",
      "City processed: honningsvag\n",
      "City processed: port macquarie\n",
      "City processed: bowen\n",
      "City NOT found: nizhneyansk\n",
      "City processed: dhidhdhoo\n",
      "City processed: kaduna\n",
      "City processed: jijiga\n",
      "City processed: victoria\n",
      "City NOT found: sentyabrskiy\n",
      "City processed: verkhoyansk\n",
      "City processed: stepnoye\n",
      "City processed: abalak\n",
      "City processed: collie\n",
      "City processed: takanabe\n",
      "City processed: ankazobe\n",
      "City processed: barrow\n",
      "City processed: mago\n",
      "City processed: georgetown\n",
      "City processed: vestmanna\n",
      "City processed: pritomskiy\n",
      "City processed: sola\n",
      "City processed: kieta\n",
      "City processed: ostrovnoy\n",
      "City processed: bushehr\n",
      "City processed: chuy\n",
      "City processed: nizwa\n",
      "City processed: luderitz\n",
      "City processed: inuvik\n",
      "City processed: terrace\n",
      "City NOT found: talawdi\n",
      "City processed: sioux lookout\n",
      "City processed: sandwick\n",
      "City processed: luganville\n",
      "City processed: guanaja\n",
      "City processed: alta gracia\n",
      "City processed: muros\n",
      "City processed: kachiry\n",
      "City NOT found: vaitupu\n",
      "City processed: najran\n",
      "City processed: rawson\n",
      "City processed: saint peter\n",
      "City processed: leningradskiy\n",
      "City processed: phalodi\n",
      "City NOT found: warqla\n",
      "City processed: rocha\n",
      "City processed: zaoyang\n",
      "City processed: merauke\n",
      "City processed: acari\n",
      "City processed: bemidji\n",
      "City processed: sakiai\n",
      "City processed: honiara\n",
      "City processed: hailin\n",
      "City processed: ferrol\n",
      "City processed: watrous\n",
      "City processed: pevek\n",
      "City processed: namatanai\n",
      "City processed: hamilton\n",
      "City processed: maceio\n",
      "City processed: hutchinson\n",
      "City processed: codrington\n",
      "City processed: san policarpo\n",
      "City processed: taos\n",
      "City processed: ariquemes\n",
      "City processed: port lincoln\n",
      "City processed: neiafu\n",
      "City processed: synya\n",
      "City processed: castro\n",
      "City processed: polunochnoye\n",
      "City processed: faanui\n",
      "City processed: roald\n",
      "City processed: gorontalo\n",
      "City processed: muisne\n",
      "City processed: mogok\n",
      "City processed: kaniama\n",
      "City processed: oga\n",
      "City processed: acarau\n",
      "City processed: kununurra\n",
      "City NOT found: marv dasht\n",
      "City processed: flinders\n",
      "City processed: asau\n",
      "City processed: broome\n",
      "City processed: paita\n",
      "City processed: zheleznodorozhnyy\n",
      "City processed: eureka\n",
      "City processed: kikwit\n",
      "City NOT found: suzu\n",
      "City processed: mount gambier\n",
      "City processed: kodinar\n",
      "City processed: mitsamiouli\n",
      "City processed: southbridge\n",
      "City processed: provideniya\n",
      "City processed: sneek\n",
      "City processed: guerrero negro\n",
      "City processed: maragogi\n",
      "City processed: skibbereen\n",
      "City processed: svetlyy\n",
      "City processed: fiumicino\n",
      "City processed: garowe\n",
      "City processed: nacogdoches\n",
      "City processed: praya\n",
      "City processed: port shepstone\n",
      "City processed: arcata\n",
      "City processed: sinnamary\n",
      "City processed: umm lajj\n",
      "City NOT found: tumannyy\n",
      "City processed: khash\n",
      "City processed: narsaq\n",
      "City processed: novobiryusinskiy\n",
      "City processed: cayenne\n",
      "City processed: bambous virieux\n",
      "City processed: okato\n",
      "City processed: termiz\n",
      "City processed: fuerte olimpo\n",
      "City NOT found: burica\n",
      "City processed: haines junction\n",
      "City processed: hualmay\n",
      "City processed: isla mujeres\n",
      "City processed: karratha\n",
      "City processed: kruisfontein\n",
      "City processed: palmer\n",
      "City NOT found: rawannawi\n",
      "City processed: san jeronimito\n",
      "City processed: arraial do cabo\n",
      "City processed: qeshm\n",
      "City NOT found: cumaribo\n",
      "City processed: touros\n",
      "City processed: road town\n",
      "City processed: cidreira\n",
      "City processed: dunedin\n",
      "City processed: cabo san lucas\n",
      "City processed: ust-maya\n",
      "City processed: ikungi\n",
      "City processed: pachora\n",
      "City processed: maralal\n",
      "City processed: pisco\n",
      "City processed: mersing\n",
      "City processed: xiangfan\n",
      "City processed: jos\n",
      "City processed: barcelos\n",
      "City processed: lufilufi\n",
      "City processed: bethel\n",
      "City NOT found: mys shmidta\n",
      "City processed: komsomolskiy\n",
      "City processed: portree\n",
      "City processed: waitati\n",
      "City NOT found: bocaranga\n",
      "City processed: grindavik\n",
      "City processed: kokorevka\n",
      "City processed: prado\n",
      "City processed: salihorsk\n",
      "City processed: ushumun\n",
      "City processed: beloha\n",
      "City NOT found: dalinghe\n",
      "City processed: mahbubabad\n",
      "City processed: natalicio talavera\n",
      "City processed: sakakah\n",
      "City processed: flagstaff\n",
      "City processed: alikovo\n",
      "City processed: nouadhibou\n",
      "City processed: aberdeen\n",
      "City processed: lompoc\n",
      "City processed: vila franca do campo\n",
      "City processed: fortuna\n",
      "City processed: coihaique\n",
      "City processed: mackay\n",
      "City processed: brownsville\n",
      "City processed: markova\n",
      "City NOT found: rungata\n",
      "City processed: kasongo-lunda\n",
      "City processed: gualeguay\n",
      "City processed: vanavara\n",
      "City processed: magadan\n",
      "City processed: takoradi\n",
      "City processed: saint-augustin\n",
      "City processed: hasaki\n",
      "City processed: kirakira\n",
      "City processed: airai\n",
      "City NOT found: tabarqah\n",
      "City processed: avera\n",
      "City processed: jinxiang\n",
      "City NOT found: bur gabo\n",
      "City processed: lenine\n",
      "City processed: monte alegre\n",
      "City processed: livingston\n",
      "City processed: aquiraz\n",
      "City processed: tazovskiy\n",
      "City processed: praia\n",
      "City processed: washington\n",
      "City processed: agadir\n",
      "City processed: newport\n",
      "City processed: pestretsy\n",
      "City processed: barra do garcas\n",
      "City processed: gazli\n",
      "City processed: kabinda\n",
      "City processed: victor harbor\n",
      "City processed: northam\n",
      "City processed: ko samui\n",
      "City processed: kletskaya\n",
      "City processed: arman\n",
      "City processed: port-gentil\n",
      "City NOT found: sorvag\n",
      "City processed: waddan\n",
      "City processed: maturin\n",
      "City processed: abha\n",
      "City processed: banda aceh\n",
      "City NOT found: souflion\n",
      "City processed: huarmey\n",
      "City processed: mvuma\n",
      "City processed: ancud\n",
      "City processed: pahrump\n",
      "City processed: santo domingo\n",
      "City processed: buraydah\n",
      "City processed: pasighat\n",
      "City processed: vasilyevskiy mokh\n",
      "City processed: biu\n",
      "City processed: sao joao da barra\n",
      "City processed: elban\n",
      "City processed: wanning\n",
      "City processed: tual\n",
      "City processed: vershino-darasunskiy\n",
      "City processed: richards bay\n",
      "City processed: velyka bahachka\n",
      "City processed: mongo\n",
      "City processed: hofn\n",
      "City NOT found: halalo\n",
      "City processed: danbury\n",
      "City processed: yaviza\n",
      "City processed: jieshi\n",
      "City processed: te anau\n",
      "City processed: weihai\n",
      "City processed: deputatskiy\n",
      "City processed: salta\n",
      "City NOT found: amderma\n",
      "City processed: vila velha\n",
      "City processed: lokosovo\n",
      "City NOT found: pakwach\n",
      "City processed: kauhajoki\n",
      "City processed: ghanzi\n",
      "City processed: hailakandi\n",
      "City NOT found: manzil jamil\n",
      "City processed: metsamor\n",
      "City NOT found: bolungarvik\n",
      "City processed: krasnotorka\n",
      "City processed: kapoeta\n",
      "City processed: tommot\n",
      "City processed: maine-soroa\n",
      "City processed: samarai\n",
      "City processed: were ilu\n",
      "City processed: severnyy-kospashskiy\n",
      "City processed: eydhafushi\n",
      "City processed: tiarei\n",
      "City processed: chokurdakh\n",
      "City processed: rio bueno\n",
      "City processed: lazaro cardenas\n",
      "City NOT found: tabiauea\n",
      "City processed: khani\n",
      "City processed: fort-de-france\n",
      "City processed: ahipara\n",
      "City processed: qingdao\n",
      "City NOT found: attawapiskat\n",
      "City processed: sambava\n",
      "City processed: saint-pierre\n",
      "City processed: snasa\n",
      "City processed: seoul\n",
      "City processed: boyolangu\n",
      "City processed: kloulklubed\n",
      "City NOT found: bokspits\n",
      "City processed: tricase\n",
      "City processed: dawei\n",
      "City processed: katsina\n",
      "City processed: veraval\n",
      "City processed: port hardy\n",
      "City processed: nema\n",
      "City NOT found: doctor pedro p. pena\n",
      "City processed: geraldton\n",
      "City processed: kahului\n",
      "City NOT found: sinkat\n",
      "City processed: laguna\n",
      "City processed: cave spring\n",
      "City processed: alta floresta\n",
      "City processed: shirokovskiy\n",
      "City processed: ekhabi\n",
      "City processed: hun\n",
      "City NOT found: tarudant\n",
      "City processed: nantucket\n",
      "City processed: kharp\n",
      "City processed: srednekolymsk\n",
      "City processed: iqaluit\n",
      "City processed: san carlos\n",
      "City processed: alihe\n",
      "City processed: petropavlovsk-kamchatskiy\n",
      "City processed: nelson bay\n",
      "City processed: smila\n",
      "City processed: akhtanizovskaya\n",
      "City processed: phalaborwa\n",
      "City processed: manono\n",
      "City processed: alofi\n",
      "City processed: miles city\n",
      "City processed: kaduqli\n",
      "City processed: punta gorda\n",
      "City processed: olean\n",
      "City processed: felipe carrillo puerto\n",
      "City processed: bintulu\n",
      "City processed: afrikanda\n",
      "City processed: cururupu\n",
      "City processed: batouri\n",
      "City processed: murgab\n",
      "City NOT found: katha\n",
      "City processed: solnechnyy\n",
      "City NOT found: longlac\n",
      "City processed: gizo\n",
      "City processed: mae hong son\n",
      "City processed: sabang\n",
      "City processed: polyarnyy\n",
      "City processed: mizusawa\n",
      "City processed: el alto\n",
      "City processed: asfi\n",
      "City processed: bathsheba\n",
      "City processed: itarema\n",
      "City processed: amuntai\n",
      "City processed: kristiinankaupunki\n",
      "City processed: vagamo\n",
      "City processed: beringovskiy\n",
      "City processed: schaffhausen\n",
      "City processed: akureyri\n",
      "City processed: sao gabriel da cachoeira\n",
      "City processed: mugango\n",
      "City processed: maniitsoq\n",
      "City NOT found: tawnat\n",
      "City processed: pontianak\n",
      "City NOT found: kazalinsk\n",
      "City processed: macia\n",
      "City processed: ossora\n",
      "City processed: olafsvik\n",
      "City processed: necochea\n",
      "City processed: bengkulu\n",
      "City processed: greenwood\n",
      "City processed: hambantota\n",
      "City NOT found: meyungs\n",
      "City processed: ust-nera\n",
      "City processed: lumeje\n",
      "City processed: chapais\n",
      "City processed: bambanglipuro\n",
      "City processed: caravelas\n",
      "City processed: leh\n",
      "City processed: bonthe\n",
      "City processed: gondanglegi\n",
      "City processed: krasnaya gorka\n",
      "City processed: hay river\n",
      "City processed: gat\n",
      "City processed: malakal\n",
      "City processed: ryde\n",
      "City processed: sarlat-la-caneda\n",
      "City processed: nizhniy kuranakh\n",
      "City processed: camacha\n",
      "City processed: reinosa\n",
      "City processed: marzuq\n",
      "City processed: teguldet\n",
      "City processed: saquena\n",
      "City processed: kabompo\n",
      "City processed: adrar\n",
      "City processed: les escoumins\n",
      "City processed: aklavik\n",
      "City NOT found: banmo\n",
      "City processed: praia da vitoria\n",
      "City processed: aykhal\n",
      "City NOT found: malwan\n",
      "City processed: shelburne\n",
      "City processed: pudozh\n",
      "City NOT found: mullaitivu\n",
      "City processed: novikovo\n",
      "City processed: sale\n",
      "City processed: lisakovsk\n",
      "City processed: uige\n",
      "City processed: manakara\n",
      "City processed: moctezuma\n",
      "City processed: marrakesh\n",
      "City processed: derzhavinsk\n",
      "City processed: daru\n",
      "City processed: black river\n",
      "City processed: lamar\n",
      "City processed: blackwater\n",
      "City processed: nilopolis\n",
      "City processed: san jose\n",
      "City processed: ambulu\n",
      "City processed: evensk\n",
      "City processed: fairbanks\n",
      "City processed: flin flon\n",
      "City processed: labuan\n",
      "City processed: canico\n",
      "City processed: gunnedah\n",
      "City processed: taunggyi\n",
      "City processed: ponta delgada\n",
      "City processed: leirvik\n",
      "City processed: tuatapere\n",
      "City processed: port blair\n",
      "City processed: ebeltoft\n",
      "City processed: shumskiy\n",
      "City processed: urla\n",
      "City NOT found: sumbawa\n",
      "City processed: mandan\n",
      "City NOT found: kawana waters\n",
      "City NOT found: one hundred mile house\n",
      "City processed: bandarbeyla\n",
      "City processed: vardo\n",
      "City processed: altay\n",
      "City processed: bac ninh\n",
      "City processed: kavaratti\n",
      "City processed: sur\n",
      "City processed: husavik\n",
      "City processed: anadyr\n",
      "City processed: providencia\n",
      "City processed: sunbury\n",
      "City processed: namibe\n",
      "City processed: numan\n",
      "City processed: cienfuegos\n",
      "City processed: kerns\n",
      "City processed: mecca\n",
      "City processed: riviere-au-renard\n",
      "City processed: kapit\n",
      "City processed: griffith\n",
      "City processed: marsabit\n",
      "City processed: price\n",
      "City processed: boa vista\n",
      "City processed: toro\n",
      "City processed: harper\n",
      "City processed: lichtenau\n",
      "City processed: saldanha\n",
      "City processed: catuday\n",
      "City processed: kokomo\n",
      "City processed: queimadas\n",
      "City NOT found: hunza\n",
      "City processed: nortelandia\n",
      "City NOT found: saleaula\n",
      "City processed: pitimbu\n",
      "City NOT found: mergui\n",
      "City NOT found: samatau\n",
      "City processed: belyy yar\n",
      "City processed: byron bay\n",
      "City processed: marsa matruh\n",
      "City processed: lobito\n",
      "City processed: urusha\n",
      "City processed: san bartolome de tirajana\n",
      "City processed: viransehir\n",
      "City processed: davila\n",
      "City processed: amurrio\n",
      "City processed: gubkinskiy\n",
      "City NOT found: kachikau\n",
      "City processed: yaan\n",
      "City processed: omboue\n",
      "City processed: arlit\n",
      "City processed: khandyga\n",
      "City processed: sassandra\n",
      "City processed: areka\n",
      "City processed: uchiza\n",
      "City processed: hella\n",
      "City processed: chkalovskoye\n",
      "City processed: los llanos de aridane\n",
      "City processed: wamba\n",
      "City processed: zhanaozen\n"
     ]
    }
   ],
   "source": [
    "#create url for query with imperial units and city at the end\n",
    "#url from https://openweathermap.org/appid\n",
    "url = \"http://api.openweathermap.org/data/2.5/weather?id=524901\"\n",
    "unit = \"metric\"\n",
    "query_url = f\"{url}&appid={weather_api_key}&units={unit}&q=\"\n",
    "\n",
    "# Lists for results\n",
    "lat = []\n",
    "lon = []\n",
    "foundCities = []\n",
    "temp = []\n",
    "humidity = []\n",
    "cloudiness = []\n",
    "windSpeed = []\n",
    "date = []\n",
    "country = []\n",
    "\n",
    "for city in cities:\n",
    "    try:\n",
    "        response = requests.get(query_url + city).json()\n",
    "        lat.append(response[\"coord\"][\"lat\"])\n",
    "        lon.append(response[\"coord\"][\"lon\"])\n",
    "        temp.append(response[\"main\"][\"temp_max\"])\n",
    "        humidity.append(response[\"main\"][\"humidity\"])\n",
    "        cloudiness.append(response[\"clouds\"][\"all\"])\n",
    "        windSpeed.append(response[\"wind\"][\"speed\"])\n",
    "        date.append(response[\"dt\"])\n",
    "        country.append(response[\"sys\"][\"country\"])\n",
    "        foundCities.append(city)\n",
    "        print(f\"City processed: {city}\")\n",
    "    except:\n",
    "        print(f\"City NOT found: {city}\")\n",
    "print(\"Data Retrieval Complete\")"
   ]
  },
  {
   "cell_type": "markdown",
   "metadata": {},
   "source": [
    "### Convert Raw Data to DataFrame\n",
    "* Export the city data into a .csv.\n",
    "* Display the DataFrame"
   ]
  },
  {
   "cell_type": "code",
   "execution_count": 41,
   "metadata": {},
   "outputs": [
    {
     "data": {
      "text/html": [
       "<div>\n",
       "<style scoped>\n",
       "    .dataframe tbody tr th:only-of-type {\n",
       "        vertical-align: middle;\n",
       "    }\n",
       "\n",
       "    .dataframe tbody tr th {\n",
       "        vertical-align: top;\n",
       "    }\n",
       "\n",
       "    .dataframe thead th {\n",
       "        text-align: right;\n",
       "    }\n",
       "</style>\n",
       "<table border=\"1\" class=\"dataframe\">\n",
       "  <thead>\n",
       "    <tr style=\"text-align: right;\">\n",
       "      <th></th>\n",
       "      <th>City</th>\n",
       "      <th>Country</th>\n",
       "      <th>Temperature</th>\n",
       "      <th>Humidity</th>\n",
       "      <th>Cloudiness</th>\n",
       "      <th>Windspeed</th>\n",
       "      <th>Latitude</th>\n",
       "      <th>Longitude</th>\n",
       "      <th>Date</th>\n",
       "    </tr>\n",
       "  </thead>\n",
       "  <tbody>\n",
       "    <tr>\n",
       "      <th>0</th>\n",
       "      <td>naze</td>\n",
       "      <td>JP</td>\n",
       "      <td>25.51</td>\n",
       "      <td>84</td>\n",
       "      <td>89</td>\n",
       "      <td>1.58</td>\n",
       "      <td>28.3667</td>\n",
       "      <td>129.4833</td>\n",
       "      <td>1623661079</td>\n",
       "    </tr>\n",
       "    <tr>\n",
       "      <th>1</th>\n",
       "      <td>saint george</td>\n",
       "      <td>US</td>\n",
       "      <td>28.33</td>\n",
       "      <td>15</td>\n",
       "      <td>1</td>\n",
       "      <td>0.89</td>\n",
       "      <td>37.1041</td>\n",
       "      <td>-113.5841</td>\n",
       "      <td>1623660791</td>\n",
       "    </tr>\n",
       "    <tr>\n",
       "      <th>2</th>\n",
       "      <td>gazojak</td>\n",
       "      <td>TM</td>\n",
       "      <td>34.10</td>\n",
       "      <td>6</td>\n",
       "      <td>0</td>\n",
       "      <td>7.06</td>\n",
       "      <td>41.1875</td>\n",
       "      <td>61.4036</td>\n",
       "      <td>1623661081</td>\n",
       "    </tr>\n",
       "    <tr>\n",
       "      <th>3</th>\n",
       "      <td>souillac</td>\n",
       "      <td>MU</td>\n",
       "      <td>26.21</td>\n",
       "      <td>69</td>\n",
       "      <td>40</td>\n",
       "      <td>7.20</td>\n",
       "      <td>-20.5167</td>\n",
       "      <td>57.5167</td>\n",
       "      <td>1623661082</td>\n",
       "    </tr>\n",
       "    <tr>\n",
       "      <th>4</th>\n",
       "      <td>colac</td>\n",
       "      <td>AU</td>\n",
       "      <td>11.35</td>\n",
       "      <td>80</td>\n",
       "      <td>97</td>\n",
       "      <td>1.48</td>\n",
       "      <td>-38.3333</td>\n",
       "      <td>143.5833</td>\n",
       "      <td>1623660940</td>\n",
       "    </tr>\n",
       "    <tr>\n",
       "      <th>...</th>\n",
       "      <td>...</td>\n",
       "      <td>...</td>\n",
       "      <td>...</td>\n",
       "      <td>...</td>\n",
       "      <td>...</td>\n",
       "      <td>...</td>\n",
       "      <td>...</td>\n",
       "      <td>...</td>\n",
       "      <td>...</td>\n",
       "    </tr>\n",
       "    <tr>\n",
       "      <th>572</th>\n",
       "      <td>hella</td>\n",
       "      <td>NO</td>\n",
       "      <td>10.08</td>\n",
       "      <td>76</td>\n",
       "      <td>75</td>\n",
       "      <td>3.09</td>\n",
       "      <td>67.2000</td>\n",
       "      <td>14.4333</td>\n",
       "      <td>1623661521</td>\n",
       "    </tr>\n",
       "    <tr>\n",
       "      <th>573</th>\n",
       "      <td>chkalovskoye</td>\n",
       "      <td>RU</td>\n",
       "      <td>24.05</td>\n",
       "      <td>82</td>\n",
       "      <td>6</td>\n",
       "      <td>2.35</td>\n",
       "      <td>44.8392</td>\n",
       "      <td>133.0436</td>\n",
       "      <td>1623661521</td>\n",
       "    </tr>\n",
       "    <tr>\n",
       "      <th>574</th>\n",
       "      <td>los llanos de aridane</td>\n",
       "      <td>ES</td>\n",
       "      <td>19.86</td>\n",
       "      <td>84</td>\n",
       "      <td>20</td>\n",
       "      <td>7.20</td>\n",
       "      <td>28.6585</td>\n",
       "      <td>-17.9182</td>\n",
       "      <td>1623661522</td>\n",
       "    </tr>\n",
       "    <tr>\n",
       "      <th>575</th>\n",
       "      <td>wamba</td>\n",
       "      <td>NG</td>\n",
       "      <td>27.76</td>\n",
       "      <td>69</td>\n",
       "      <td>96</td>\n",
       "      <td>1.47</td>\n",
       "      <td>8.9333</td>\n",
       "      <td>8.6000</td>\n",
       "      <td>1623661523</td>\n",
       "    </tr>\n",
       "    <tr>\n",
       "      <th>576</th>\n",
       "      <td>zhanaozen</td>\n",
       "      <td>KZ</td>\n",
       "      <td>35.00</td>\n",
       "      <td>20</td>\n",
       "      <td>79</td>\n",
       "      <td>6.64</td>\n",
       "      <td>43.3000</td>\n",
       "      <td>52.8000</td>\n",
       "      <td>1623661523</td>\n",
       "    </tr>\n",
       "  </tbody>\n",
       "</table>\n",
       "<p>577 rows × 9 columns</p>\n",
       "</div>"
      ],
      "text/plain": [
       "                      City Country  Temperature  Humidity  Cloudiness  \\\n",
       "0                     naze      JP        25.51        84          89   \n",
       "1             saint george      US        28.33        15           1   \n",
       "2                  gazojak      TM        34.10         6           0   \n",
       "3                 souillac      MU        26.21        69          40   \n",
       "4                    colac      AU        11.35        80          97   \n",
       "..                     ...     ...          ...       ...         ...   \n",
       "572                  hella      NO        10.08        76          75   \n",
       "573           chkalovskoye      RU        24.05        82           6   \n",
       "574  los llanos de aridane      ES        19.86        84          20   \n",
       "575                  wamba      NG        27.76        69          96   \n",
       "576              zhanaozen      KZ        35.00        20          79   \n",
       "\n",
       "     Windspeed  Latitude  Longitude        Date  \n",
       "0         1.58   28.3667   129.4833  1623661079  \n",
       "1         0.89   37.1041  -113.5841  1623660791  \n",
       "2         7.06   41.1875    61.4036  1623661081  \n",
       "3         7.20  -20.5167    57.5167  1623661082  \n",
       "4         1.48  -38.3333   143.5833  1623660940  \n",
       "..         ...       ...        ...         ...  \n",
       "572       3.09   67.2000    14.4333  1623661521  \n",
       "573       2.35   44.8392   133.0436  1623661521  \n",
       "574       7.20   28.6585   -17.9182  1623661522  \n",
       "575       1.47    8.9333     8.6000  1623661523  \n",
       "576       6.64   43.3000    52.8000  1623661523  \n",
       "\n",
       "[577 rows x 9 columns]"
      ]
     },
     "execution_count": 41,
     "metadata": {},
     "output_type": "execute_result"
    }
   ],
   "source": [
    "city_weather_df = pd.DataFrame({\"City\": foundCities,\n",
    "                           \"Country\": country,\n",
    "                           \"Temperature\": temp,\n",
    "                           \"Humidity\": humidity,\n",
    "                           \"Cloudiness\": cloudiness,\n",
    "                           \"Windspeed\":windSpeed,\n",
    "                           \"Latitude\": lat,\n",
    "                           \"Longitude\": lon,\n",
    "                           \"Date\": date\n",
    "                          })\n",
    "\n",
    "#Save to file\n",
    "city_weather_df.to_csv(\"../output/cities.csv\", index=True, index_label=\"City\", header=True)\n",
    "\n",
    "#Print dataframe\n",
    "city_weather_df"
   ]
  },
  {
   "cell_type": "code",
   "execution_count": null,
   "metadata": {},
   "outputs": [],
   "source": []
  },
  {
   "cell_type": "markdown",
   "metadata": {},
   "source": [
    "## Inspect the data and remove the cities where the humidity > 100%.\n",
    "----\n",
    "Skip this step if there are no cities that have humidity > 100%. "
   ]
  },
  {
   "cell_type": "code",
   "execution_count": 42,
   "metadata": {},
   "outputs": [
    {
     "data": {
      "text/html": [
       "<div>\n",
       "<style scoped>\n",
       "    .dataframe tbody tr th:only-of-type {\n",
       "        vertical-align: middle;\n",
       "    }\n",
       "\n",
       "    .dataframe tbody tr th {\n",
       "        vertical-align: top;\n",
       "    }\n",
       "\n",
       "    .dataframe thead th {\n",
       "        text-align: right;\n",
       "    }\n",
       "</style>\n",
       "<table border=\"1\" class=\"dataframe\">\n",
       "  <thead>\n",
       "    <tr style=\"text-align: right;\">\n",
       "      <th></th>\n",
       "      <th>City</th>\n",
       "      <th>Country</th>\n",
       "      <th>Temperature</th>\n",
       "      <th>Humidity</th>\n",
       "      <th>Cloudiness</th>\n",
       "      <th>Windspeed</th>\n",
       "      <th>Latitude</th>\n",
       "      <th>Longitude</th>\n",
       "      <th>Date</th>\n",
       "    </tr>\n",
       "  </thead>\n",
       "  <tbody>\n",
       "  </tbody>\n",
       "</table>\n",
       "</div>"
      ],
      "text/plain": [
       "Empty DataFrame\n",
       "Columns: [City, Country, Temperature, Humidity, Cloudiness, Windspeed, Latitude, Longitude, Date]\n",
       "Index: []"
      ]
     },
     "execution_count": 42,
     "metadata": {},
     "output_type": "execute_result"
    }
   ],
   "source": [
    "humidity_over_100 = city_weather_df[(city_weather_df['Humidity'] > 100)]\n",
    "humidity_over_100"
   ]
  },
  {
   "cell_type": "code",
   "execution_count": 47,
   "metadata": {},
   "outputs": [],
   "source": [
    "#  Get the indices of cities that have humidity over 100%.\n",
    " Humidity100Index = humidity_over_100.index"
   ]
  },
  {
   "cell_type": "code",
   "execution_count": 46,
   "metadata": {},
   "outputs": [],
   "source": [
    "# Make a new DataFrame equal to the city data to drop all humidity outliers by index.\n",
    "# Passing \"inplace=False\" will make a copy of the city_data DataFrame, which we call \"clean_city_data\".\n"
   ]
  },
  {
   "cell_type": "code",
   "execution_count": null,
   "metadata": {},
   "outputs": [],
   "source": [
    "\n"
   ]
  },
  {
   "cell_type": "markdown",
   "metadata": {},
   "source": [
    "## Plotting the Data\n",
    "* Use proper labeling of the plots using plot titles (including date of analysis) and axes labels.\n",
    "* Save the plotted figures as .pngs."
   ]
  },
  {
   "cell_type": "markdown",
   "metadata": {},
   "source": [
    "## Latitude vs. Temperature Plot"
   ]
  },
  {
   "cell_type": "code",
   "execution_count": 61,
   "metadata": {
    "scrolled": true
   },
   "outputs": [
    {
     "data": {
      "image/png": "[encoded data removed]",
      "text/plain": [
       "<Figure size 432x288 with 1 Axes>"
      ]
     },
     "metadata": {
      "needs_background": "light"
     },
     "output_type": "display_data"
    }
   ],
   "source": [
    "plt.scatter(lat, temp, marker=\"o\", facecolors=\"blue\")\n",
    "\n",
    "# --- add labels, title, limits & grid ---\n",
    "plt.title(\"Latitude vs. TemperaturePlot\", fontsize=14)\n",
    "plt.ylabel(\"Temperature in Celcuis\", fontsize=12)\n",
    "plt.xlabel(\"Latitude\", fontsize=12)\n",
    "plt.grid()\n",
    "\n",
    "# Save and show scatter plot\n",
    "plt.savefig(\"../Images/latitude-vs-temp.png\")\n",
    "plt.show()\n"
   ]
  },
  {
   "cell_type": "markdown",
   "metadata": {},
   "source": [
    "## Latitude vs. Humidity Plot"
   ]
  },
  {
   "cell_type": "code",
   "execution_count": 63,
   "metadata": {},
   "outputs": [
    {
     "data": {
      "image/png": "[encoded data removed]",
      "text/plain": [
       "<Figure size 432x288 with 1 Axes>"
      ]
     },
     "metadata": {
      "needs_background": "light"
     },
     "output_type": "display_data"
    }
   ],
   "source": [
    "plt.scatter(lat, humidity, marker=\"o\", facecolors=\"blue\")\n",
    "\n",
    "# --- add labels, title, limits & grid ---\n",
    "plt.title(\"City Latitude vs. Humidity\", fontsize=14)\n",
    "plt.ylabel(\"Humidity (%)\", fontsize=12)\n",
    "plt.xlabel(\"Latitude\", fontsize=12)\n",
    "plt.grid()\n",
    "\n",
    "# --- display and save the plot ---\n",
    "plt.savefig(\"../Images/latitude-vs-humidity.png\")\n",
    "plt.show()"
   ]
  },
  {
   "cell_type": "markdown",
   "metadata": {},
   "source": [
    "## Latitude vs. Cloudiness Plot"
   ]
  },
  {
   "cell_type": "code",
   "execution_count": 65,
   "metadata": {},
   "outputs": [
    {
     "data": {
      "image/png": "[encoded data removed]",
      "text/plain": [
       "<Figure size 432x288 with 1 Axes>"
      ]
     },
     "metadata": {
      "needs_background": "light"
     },
     "output_type": "display_data"
    }
   ],
   "source": [
    "plt.scatter(lat, cloudiness, marker=\"o\", facecolors=\"blue\")\n",
    "\n",
    "# --- add labels, title, limits & grid ---\n",
    "plt.title(\"Latitude vs. Cloudiness\", fontsize=14)\n",
    "plt.ylabel(\"Cloudiness\", fontsize=12)\n",
    "plt.xlabel(\"Latitude\", fontsize=12)\n",
    "plt.grid()\n",
    "\n",
    "# --- display and save the plot ---\n",
    "plt.savefig(\"../Images/latitude-vs-cloudiness.png\")\n",
    "plt.show()\n"
   ]
  },
  {
   "cell_type": "markdown",
   "metadata": {},
   "source": [
    "## Latitude vs. Wind Speed Plot"
   ]
  },
  {
   "cell_type": "code",
   "execution_count": 66,
   "metadata": {},
   "outputs": [
    {
     "data": {
      "image/png": "[encoded data removed]",
      "text/plain": [
       "<Figure size 432x288 with 1 Axes>"
      ]
     },
     "metadata": {
      "needs_background": "light"
     },
     "output_type": "display_data"
    }
   ],
   "source": [
    "plt.scatter(lat, windSpeed, marker=\"o\", facecolors=\"blue\")\n",
    "\n",
    "# --- add labels, title, limits & grid ---\n",
    "plt.title(\"Latitude vs. Cloudiness\", fontsize=14)\n",
    "plt.ylabel(\"Wind Speed\", fontsize=12)\n",
    "plt.xlabel(\"Latitude\", fontsize=12)\n",
    "plt.grid()\n",
    "\n",
    "# --- display and save the plot ---\n",
    "plt.savefig(\"../Images/latitude-vs-cloudiness.png\")\n",
    "plt.show()"
   ]
  },
  {
   "cell_type": "markdown",
   "metadata": {},
   "source": [
    "## Linear Regression"
   ]
  },
  {
   "cell_type": "code",
   "execution_count": 24,
   "metadata": {},
   "outputs": [],
   "source": []
  },
  {
   "cell_type": "markdown",
   "metadata": {},
   "source": [
    "####  Northern Hemisphere - Max Temp vs. Latitude Linear Regression"
   ]
  },
  {
   "cell_type": "code",
   "execution_count": 25,
   "metadata": {},
   "outputs": [
    {
     "name": "stdout",
     "output_type": "stream",
     "text": [
      "The r-value is: 0.46937863826630627\n"
     ]
    },
    {
     "data": {
      "image/png": "[encoded data removed]",
      "text/plain": [
       "<Figure size 432x288 with 1 Axes>"
      ]
     },
     "metadata": {
      "needs_background": "light"
     },
     "output_type": "display_data"
    }
   ],
   "source": []
  },
  {
   "cell_type": "markdown",
   "metadata": {},
   "source": [
    "####  Southern Hemisphere - Max Temp vs. Latitude Linear Regression"
   ]
  },
  {
   "cell_type": "code",
   "execution_count": 26,
   "metadata": {},
   "outputs": [
    {
     "name": "stdout",
     "output_type": "stream",
     "text": [
      "The r-value is: 0.6082708688906918\n"
     ]
    },
    {
     "data": {
      "image/png": "[encoded data removed]",
      "text/plain": [
       "<Figure size 432x288 with 1 Axes>"
      ]
     },
     "metadata": {
      "needs_background": "light"
     },
     "output_type": "display_data"
    }
   ],
   "source": []
  },
  {
   "cell_type": "markdown",
   "metadata": {},
   "source": [
    "####  Northern Hemisphere - Humidity (%) vs. Latitude Linear Regression"
   ]
  },
  {
   "cell_type": "code",
   "execution_count": 27,
   "metadata": {},
   "outputs": [
    {
     "name": "stdout",
     "output_type": "stream",
     "text": [
      "The r-value is: 0.000543987878808455\n"
     ]
    },
    {
     "data": {
      "image/png": "[encoded data removed]",
      "text/plain": [
       "<Figure size 432x288 with 1 Axes>"
      ]
     },
     "metadata": {
      "needs_background": "light"
     },
     "output_type": "display_data"
    }
   ],
   "source": []
  },
  {
   "cell_type": "markdown",
   "metadata": {},
   "source": [
    "####  Southern Hemisphere - Humidity (%) vs. Latitude Linear Regression"
   ]
  },
  {
   "cell_type": "code",
   "execution_count": 28,
   "metadata": {},
   "outputs": [
    {
     "name": "stdout",
     "output_type": "stream",
     "text": [
      "The r-value is: 0.014985174297345524\n"
     ]
    },
    {
     "data": {
      "image/png": "[encoded data removed]",
      "text/plain": [
       "<Figure size 432x288 with 1 Axes>"
      ]
     },
     "metadata": {
      "needs_background": "light"
     },
     "output_type": "display_data"
    }
   ],
   "source": []
  },
  {
   "cell_type": "markdown",
   "metadata": {},
   "source": [
    "####  Northern Hemisphere - Cloudiness (%) vs. Latitude Linear Regression"
   ]
  },
  {
   "cell_type": "code",
   "execution_count": 29,
   "metadata": {},
   "outputs": [
    {
     "name": "stdout",
     "output_type": "stream",
     "text": [
      "The r-value is: 0.0020898727664228514\n"
     ]
    },
    {
     "data": {
      "image/png": "[encoded data removed]",
      "text/plain": [
       "<Figure size 432x288 with 1 Axes>"
      ]
     },
     "metadata": {
      "needs_background": "light"
     },
     "output_type": "display_data"
    }
   ],
   "source": []
  },
  {
   "cell_type": "markdown",
   "metadata": {},
   "source": [
    "####  Southern Hemisphere - Cloudiness (%) vs. Latitude Linear Regression"
   ]
  },
  {
   "cell_type": "code",
   "execution_count": 30,
   "metadata": {},
   "outputs": [
    {
     "name": "stdout",
     "output_type": "stream",
     "text": [
      "The r-value is: 0.0035263772085582894\n"
     ]
    },
    {
     "data": {
      "image/png": "[encoded data removed]",
      "text/plain": [
       "<Figure size 432x288 with 1 Axes>"
      ]
     },
     "metadata": {
      "needs_background": "light"
     },
     "output_type": "display_data"
    }
   ],
   "source": []
  },
  {
   "cell_type": "markdown",
   "metadata": {},
   "source": [
    "####  Northern Hemisphere - Wind Speed (mph) vs. Latitude Linear Regression"
   ]
  },
  {
   "cell_type": "code",
   "execution_count": 31,
   "metadata": {},
   "outputs": [
    {
     "name": "stdout",
     "output_type": "stream",
     "text": [
      "The r-value is: 0.04019723576144484\n"
     ]
    },
    {
     "data": {
      "image/png": "[encoded data removed]",
      "text/plain": [
       "<Figure size 432x288 with 1 Axes>"
      ]
     },
     "metadata": {
      "needs_background": "light"
     },
     "output_type": "display_data"
    }
   ],
   "source": []
  },
  {
   "cell_type": "markdown",
   "metadata": {},
   "source": [
    "####  Southern Hemisphere - Wind Speed (mph) vs. Latitude Linear Regression"
   ]
  },
  {
   "cell_type": "code",
   "execution_count": 32,
   "metadata": {},
   "outputs": [
    {
     "name": "stdout",
     "output_type": "stream",
     "text": [
      "The r-value is: 0.017128274759839232\n"
     ]
    },
    {
     "data": {
      "image/png": "[encoded data removed]",
      "text/plain": [
       "<Figure size 432x288 with 1 Axes>"
      ]
     },
     "metadata": {
      "needs_background": "light"
     },
     "output_type": "display_data"
    }
   ],
   "source": []
  },
  {
   "cell_type": "code",
   "execution_count": null,
   "metadata": {},
   "outputs": [],
   "source": []
  }
 ],
 "metadata": {
  "anaconda-cloud": {},
  "kernel_info": {
   "name": "python3"
  },
  "kernelspec": {
   "display_name": "PythonData",
   "language": "python",
   "name": "pythondata"
  },
  "language_info": {
   "codemirror_mode": {
    "name": "ipython",
    "version": 3
   },
   "file_extension": ".py",
   "mimetype": "text/x-python",
   "name": "python",
   "nbconvert_exporter": "python",
   "pygments_lexer": "ipython3",
   "version": "3.6.10"
  },
  "latex_envs": {
   "LaTeX_envs_menu_present": true,
   "autoclose": false,
   "autocomplete": true,
   "bibliofile": "biblio.bib",
   "cite_by": "apalike",
   "current_citInitial": 1,
   "eqLabelWithNumbers": true,
   "eqNumInitial": 1,
   "hotkeys": {
    "equation": "Ctrl-E",
    "itemize": "Ctrl-I"
   },
   "labels_anchors": false,
   "latex_user_defs": false,
   "report_style_numbering": false,
   "user_envs_cfg": false
  },
  "nteract": {
   "version": "0.12.3"
  }
 },
 "nbformat": 4,
 "nbformat_minor": 4
}
