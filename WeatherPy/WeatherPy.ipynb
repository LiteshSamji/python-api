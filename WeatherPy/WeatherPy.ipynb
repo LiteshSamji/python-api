{
 "cells": [
  {
   "cell_type": "markdown",
   "metadata": {},
   "source": [
    "# WeatherPy\n",
    "----\n",
    "\n",
    "#### Note\n",
    "* Instructions have been included for each segment. You do not have to follow them exactly, but they are included to help you think through the steps.\n",
    "\n",
    "Litesh Samji"
   ]
  },
  {
   "cell_type": "code",
   "execution_count": 1,
   "metadata": {
    "scrolled": true
   },
   "outputs": [],
   "source": [
    "# Dependencies and Setup\n",
    "import matplotlib.pyplot as plt\n",
    "import pandas as pd\n",
    "import numpy as np\n",
    "import requests\n",
    "import time\n",
    "from scipy.stats import linregress\n",
    "\n",
    "# Import API key\n",
    "from api_keys import weather_api_key\n",
    "\n",
    "# Incorporated citipy to determine city based on latitude and longitude\n",
    "from citipy import citipy\n",
    "\n",
    "# Output File (CSV)\n",
    "output_data_file = \"output_data/cities.csv\"\n",
    "\n",
    "# Range of latitudes and longitudes\n",
    "lat_range = (-90, 90)\n",
    "lng_range = (-180, 180)"
   ]
  },
  {
   "cell_type": "markdown",
   "metadata": {},
   "source": [
    "## Generate Cities List"
   ]
  },
  {
   "cell_type": "code",
   "execution_count": 2,
   "metadata": {},
   "outputs": [
    {
     "data": {
      "text/plain": [
       "616"
      ]
     },
     "execution_count": 2,
     "metadata": {},
     "output_type": "execute_result"
    }
   ],
   "source": [
    "# List for holding lat_lngs and cities\n",
    "lat_lngs = []\n",
    "cities = []\n",
    "\n",
    "# Create a set of random lat and lng combinations\n",
    "lats = np.random.uniform(lat_range[0], lat_range[1], size=1500)\n",
    "lngs = np.random.uniform(lng_range[0], lng_range[1], size=1500)\n",
    "lat_lngs = zip(lats, lngs)\n",
    "\n",
    "# Identify nearest city for each lat, lng combination\n",
    "for lat_lng in lat_lngs:\n",
    "    city = citipy.nearest_city(lat_lng[0], lat_lng[1]).city_name\n",
    "    \n",
    "    # If the city is unique, then add it to a our cities list\n",
    "    if city not in cities:\n",
    "        cities.append(city)\n",
    "\n",
    "# Print the city count to confirm sufficient count\n",
    "len(cities)"
   ]
  },
  {
   "cell_type": "markdown",
   "metadata": {},
   "source": [
    "### Perform API Calls\n",
    "* Perform a weather check on each city using a series of successive API calls.\n",
    "* Include a print log of each city as it'sbeing processed (with the city number and city name).\n"
   ]
  },
  {
   "cell_type": "code",
   "execution_count": 18,
   "metadata": {
    "scrolled": true
   },
   "outputs": [
    {
     "name": "stdout",
     "output_type": "stream",
     "text": [
      "Processing Record: srednekolymsk\n",
      "Processing Record: canutama\n",
      "Processing Record: kiunga\n",
      "Processing Record: poum\n",
      "Processing Record: bambous virieux\n",
      "Processing Record: port hedland\n",
      "Processing Record: salalah\n",
      "Processing Record: jamestown\n",
      "Processing Record: mar del plata\n",
      "Processing Record: otukpo\n",
      "Processing Record: ushuaia\n",
      "Processing Record: alofi\n",
      "Processing Record: nanortalik\n",
      "Processing Record: barrow\n",
      "City NOT found: burica\n",
      "Processing Record: saint george\n",
      "Processing Record: kenai\n",
      "Processing Record: hermanus\n",
      "Processing Record: mataura\n",
      "Processing Record: trairi\n",
      "Processing Record: cape town\n",
      "Processing Record: ribeira grande\n",
      "Processing Record: manaure\n",
      "City NOT found: afmadu\n",
      "Processing Record: porbandar\n",
      "Processing Record: severo-kurilsk\n",
      "Processing Record: cayenne\n",
      "Processing Record: itoman\n",
      "Processing Record: busselton\n",
      "Processing Record: east london\n",
      "Processing Record: cherskiy\n",
      "Processing Record: champerico\n",
      "Processing Record: rikitea\n",
      "Processing Record: puerto ayora\n",
      "Processing Record: araouane\n",
      "Processing Record: nha trang\n",
      "City NOT found: samusu\n",
      "Processing Record: vaini\n",
      "City NOT found: tsihombe\n",
      "Processing Record: stillwater\n",
      "Processing Record: lebu\n",
      "Processing Record: umm lajj\n",
      "Processing Record: marevo\n",
      "Processing Record: provideniya\n",
      "Processing Record: avarua\n",
      "Processing Record: upernavik\n",
      "City NOT found: tarudant\n",
      "Processing Record: san andres\n",
      "City NOT found: illoqqortoormiut\n",
      "Processing Record: yellowknife\n",
      "Processing Record: thinadhoo\n",
      "Processing Record: plettenberg bay\n",
      "Processing Record: ludvika\n",
      "Processing Record: saint-philippe\n",
      "Processing Record: noyabrsk\n",
      "Processing Record: port elizabeth\n",
      "Processing Record: ouadda\n",
      "Processing Record: clyde river\n",
      "Processing Record: kodiak\n",
      "Processing Record: miandrivazo\n",
      "Processing Record: neftcala\n",
      "Processing Record: lingyuan\n",
      "Processing Record: kapaa\n",
      "City NOT found: crab hill\n",
      "Processing Record: sao felix do xingu\n",
      "Processing Record: punta arenas\n",
      "Processing Record: castro\n",
      "Processing Record: atuona\n",
      "Processing Record: pokhara\n",
      "Processing Record: bredasdorp\n",
      "Processing Record: rawson\n",
      "Processing Record: qaanaaq\n",
      "Processing Record: dikson\n",
      "City NOT found: belushya guba\n",
      "Processing Record: bathsheba\n",
      "Processing Record: saskylakh\n",
      "Processing Record: asau\n",
      "Processing Record: husavik\n",
      "Processing Record: tasiilaq\n",
      "Processing Record: ibra\n",
      "Processing Record: vardo\n",
      "Processing Record: port lincoln\n",
      "Processing Record: new norfolk\n",
      "Processing Record: cap malheureux\n",
      "Processing Record: bluff\n",
      "Processing Record: tiksi\n",
      "Processing Record: quatre cocos\n",
      "Processing Record: mareeba\n",
      "Processing Record: albany\n",
      "City NOT found: taolanaro\n",
      "Processing Record: camana\n",
      "Processing Record: solnechnyy\n",
      "Processing Record: shancheng\n",
      "Processing Record: norman wells\n",
      "Processing Record: havre-saint-pierre\n",
      "Processing Record: codajas\n",
      "Processing Record: cockburn town\n",
      "Processing Record: pangnirtung\n",
      "Processing Record: half moon bay\n",
      "Processing Record: coihaique\n",
      "Processing Record: konevo\n",
      "Processing Record: nome\n",
      "Processing Record: aklavik\n",
      "Processing Record: lufilufi\n",
      "Processing Record: hasaki\n",
      "Processing Record: nanzhou\n",
      "Processing Record: bonthe\n",
      "Processing Record: westport\n",
      "Processing Record: san cristobal\n",
      "Processing Record: port blair\n",
      "Processing Record: talnakh\n",
      "Processing Record: sydney\n",
      "Processing Record: naerbo\n",
      "Processing Record: awbari\n",
      "Processing Record: la paz\n",
      "Processing Record: mahebourg\n",
      "Processing Record: chuy\n",
      "Processing Record: goma\n",
      "Processing Record: nossa senhora do socorro\n",
      "Processing Record: kosh-agach\n",
      "Processing Record: phalodi\n",
      "Processing Record: guerrero negro\n",
      "Processing Record: chokurdakh\n",
      "Processing Record: airai\n",
      "Processing Record: biltine\n",
      "Processing Record: jertih\n",
      "City NOT found: barentsburg\n",
      "Processing Record: georgetown\n",
      "Processing Record: praia da vitoria\n",
      "Processing Record: margate\n",
      "Processing Record: hithadhoo\n",
      "Processing Record: touros\n",
      "Processing Record: tuktoyaktuk\n",
      "Processing Record: beloha\n",
      "Processing Record: kirakira\n",
      "Processing Record: sayyan\n",
      "Processing Record: dunedin\n",
      "Processing Record: padang\n",
      "City NOT found: grand river south east\n",
      "Processing Record: college\n",
      "Processing Record: saldanha\n",
      "City NOT found: berdyuzhye\n",
      "Processing Record: pevek\n",
      "Processing Record: hobart\n",
      "Processing Record: verkh-usugli\n",
      "Processing Record: namibe\n",
      "Processing Record: mendi\n",
      "Processing Record: hinton\n",
      "Processing Record: roebourne\n",
      "Processing Record: cuamba\n",
      "Processing Record: ereymentau\n",
      "Processing Record: smithers\n",
      "City NOT found: attawapiskat\n",
      "Processing Record: bolobo\n",
      "Processing Record: khatanga\n",
      "Processing Record: port antonio\n",
      "Processing Record: klaksvik\n",
      "Processing Record: ponta do sol\n",
      "Processing Record: manoel urbano\n",
      "Processing Record: plouzane\n",
      "Processing Record: kruisfontein\n",
      "City NOT found: saleaula\n",
      "Processing Record: lake cowichan\n",
      "Processing Record: cam ranh\n",
      "City NOT found: amderma\n",
      "Processing Record: port alfred\n",
      "Processing Record: saint anthony\n",
      "Processing Record: ostrovnoy\n",
      "Processing Record: la seyne-sur-mer\n",
      "Processing Record: new baltimore\n",
      "Processing Record: cidreira\n",
      "Processing Record: kununurra\n",
      "City NOT found: dzhusaly\n",
      "Processing Record: evensk\n",
      "Processing Record: kissidougou\n",
      "Processing Record: sorong\n",
      "Processing Record: concordia\n",
      "Processing Record: namatanai\n",
      "Processing Record: neuquen\n",
      "Processing Record: benidorm\n",
      "Processing Record: faya\n",
      "City NOT found: korogwe\n",
      "Processing Record: henties bay\n",
      "Processing Record: longavi\n",
      "Processing Record: bocaiuva\n",
      "Processing Record: chunoyar\n",
      "Processing Record: haines junction\n",
      "Processing Record: nishihara\n",
      "Processing Record: pisco\n",
      "Processing Record: nantucket\n",
      "City NOT found: louisbourg\n",
      "Processing Record: arraial do cabo\n",
      "Processing Record: port hardy\n",
      "Processing Record: camden\n",
      "Processing Record: geraldton\n",
      "Processing Record: sao miguel do araguaia\n",
      "Processing Record: le vauclin\n",
      "Processing Record: carnarvon\n",
      "Processing Record: maniitsoq\n",
      "Processing Record: kavieng\n",
      "Processing Record: iquique\n",
      "Processing Record: chicama\n",
      "Processing Record: bubaque\n",
      "Processing Record: lavrentiya\n",
      "Processing Record: batemans bay\n",
      "Processing Record: shelburne\n",
      "City NOT found: umzimvubu\n",
      "Processing Record: kemin\n",
      "Processing Record: cururupu\n",
      "Processing Record: bethel\n",
      "Processing Record: los llanos de aridane\n",
      "Processing Record: huarmey\n",
      "Processing Record: senekal\n",
      "Processing Record: sisimiut\n",
      "Processing Record: cocobeach\n",
      "Processing Record: omboue\n",
      "Processing Record: northam\n",
      "Processing Record: olinda\n",
      "Processing Record: nuuk\n",
      "Processing Record: kaitangata\n",
      "Processing Record: bandarbeyla\n",
      "Processing Record: havoysund\n",
      "Processing Record: kupang\n",
      "Processing Record: uyovu\n",
      "Processing Record: kuandian\n",
      "Processing Record: watsa\n",
      "Processing Record: mehamn\n",
      "Processing Record: katobu\n",
      "Processing Record: bengkulu\n",
      "Processing Record: belaya gora\n",
      "Processing Record: casambalangan\n",
      "Processing Record: hilo\n",
      "Processing Record: vao\n",
      "Processing Record: golden\n",
      "Processing Record: linxia\n",
      "Processing Record: vostok\n",
      "Processing Record: scottsbluff\n",
      "Processing Record: mnogovershinnyy\n",
      "Processing Record: vila velha\n",
      "Processing Record: nurota\n",
      "Processing Record: belmonte\n",
      "Processing Record: kimbe\n",
      "Processing Record: amapa\n",
      "Processing Record: usinsk\n",
      "Processing Record: nikolskoye\n",
      "Processing Record: tecoanapa\n",
      "Processing Record: ilo\n",
      "Processing Record: saquena\n",
      "Processing Record: najran\n",
      "Processing Record: sibolga\n",
      "Processing Record: san quintin\n",
      "Processing Record: noumea\n",
      "Processing Record: tommot\n",
      "Processing Record: placido de castro\n",
      "Processing Record: zlobin\n",
      "Processing Record: butaritari\n",
      "Processing Record: tuatapere\n",
      "Processing Record: manokwari\n",
      "Processing Record: taltal\n",
      "Processing Record: uyuni\n",
      "Processing Record: kavaratti\n",
      "Processing Record: bairiki\n",
      "City NOT found: lolua\n",
      "City NOT found: turtkul\n",
      "City NOT found: tumannyy\n",
      "City NOT found: karaul\n",
      "Processing Record: melchor de mencos\n",
      "City NOT found: buon me thuot\n",
      "Processing Record: pacific grove\n",
      "Processing Record: genhe\n",
      "Processing Record: korla\n",
      "Processing Record: muros\n",
      "Processing Record: bonfim\n",
      "City NOT found: mrirt\n",
      "City NOT found: palabuhanratu\n",
      "Processing Record: narsaq\n",
      "City NOT found: sentyabrskiy\n",
      "Processing Record: tres arroyos\n",
      "Processing Record: musoma\n",
      "Processing Record: gat\n",
      "Processing Record: yerbogachen\n",
      "Processing Record: yugorsk\n",
      "Processing Record: xinzhi\n",
      "City NOT found: nizhneyansk\n",
      "Processing Record: port-cartier\n",
      "Processing Record: qaqortoq\n",
      "Processing Record: tingo maria\n",
      "Processing Record: asahikawa\n",
      "City NOT found: gorno-chuyskiy\n",
      "Processing Record: baljevac\n"
     ]
    },
    {
     "name": "stdout",
     "output_type": "stream",
     "text": [
      "Processing Record: pundaguitan\n",
      "Processing Record: mount gambier\n",
      "Processing Record: roma\n",
      "Processing Record: tazovskiy\n",
      "City NOT found: phan rang\n",
      "City NOT found: jilmah\n",
      "City NOT found: samalaeulu\n",
      "Processing Record: alamosa\n",
      "Processing Record: broome\n",
      "Processing Record: charters towers\n",
      "Processing Record: tura\n",
      "Processing Record: paita\n",
      "Processing Record: moerai\n",
      "Processing Record: arman\n",
      "Processing Record: moshenskoye\n",
      "Processing Record: kurmanayevka\n",
      "Processing Record: lompoc\n",
      "Processing Record: torbay\n",
      "Processing Record: teknaf\n",
      "Processing Record: fairbanks\n",
      "Processing Record: ilulissat\n",
      "Processing Record: coquimbo\n",
      "City NOT found: aflu\n",
      "Processing Record: thompson\n",
      "Processing Record: haapiti\n",
      "Processing Record: labuan\n",
      "Processing Record: necochea\n",
      "Processing Record: puri\n",
      "Processing Record: atocha\n",
      "Processing Record: berlevag\n",
      "Processing Record: kawalu\n",
      "Processing Record: tyrma\n",
      "Processing Record: tiarei\n",
      "City NOT found: vaitupu\n",
      "Processing Record: moissala\n",
      "Processing Record: teguise\n",
      "Processing Record: nuevo progreso\n",
      "Processing Record: luanda\n",
      "Processing Record: caravelas\n",
      "Processing Record: tezu\n",
      "Processing Record: egvekinot\n",
      "Processing Record: mogadishu\n",
      "Processing Record: kanye\n",
      "Processing Record: shimoda\n",
      "Processing Record: labrea\n",
      "Processing Record: atbasar\n",
      "Processing Record: boyolangu\n",
      "Processing Record: gushikawa\n",
      "Processing Record: nouadhibou\n",
      "Processing Record: cabo san lucas\n",
      "Processing Record: posadas\n",
      "Processing Record: erenhot\n",
      "Processing Record: portoferraio\n",
      "Processing Record: oranjemund\n",
      "Processing Record: fortuna\n",
      "City NOT found: khonuu\n",
      "Processing Record: krasnoselkup\n",
      "Processing Record: bronnoysund\n",
      "Processing Record: iqaluit\n",
      "Processing Record: miri\n",
      "Processing Record: coos bay\n",
      "City NOT found: kuche\n",
      "Processing Record: fonte boa\n",
      "Processing Record: samfya\n",
      "Processing Record: yulara\n",
      "Processing Record: ampanihy\n",
      "Processing Record: newport\n",
      "Processing Record: halifax\n",
      "Processing Record: wentzville\n",
      "Processing Record: malakal\n",
      "Processing Record: santander jimenez\n",
      "Processing Record: oistins\n",
      "Processing Record: sioux lookout\n",
      "Processing Record: bowen\n",
      "Processing Record: mana\n",
      "Processing Record: kurumkan\n",
      "Processing Record: hervey bay\n",
      "Processing Record: wilmington\n",
      "Processing Record: mantua\n",
      "Processing Record: dosso\n",
      "Processing Record: sambava\n",
      "Processing Record: bentiu\n",
      "Processing Record: oriximina\n",
      "City NOT found: mys shmidta\n",
      "Processing Record: luderitz\n",
      "Processing Record: casas grandes\n",
      "Processing Record: lata\n",
      "Processing Record: zhangye\n",
      "Processing Record: lagunas\n",
      "Processing Record: la romana\n",
      "Processing Record: kahului\n",
      "Processing Record: sakakah\n",
      "Processing Record: saint-ambroise\n",
      "Processing Record: huambo\n",
      "Processing Record: daru\n",
      "City NOT found: marv dasht\n",
      "Processing Record: puerto carreno\n",
      "Processing Record: ponta delgada\n",
      "Processing Record: derzhavinsk\n",
      "Processing Record: lagoa\n",
      "Processing Record: viseu\n",
      "Processing Record: pierre\n",
      "Processing Record: hanchuan\n",
      "Processing Record: faanui\n",
      "Processing Record: dukat\n",
      "Processing Record: general roca\n",
      "Processing Record: akropong\n",
      "City NOT found: yanchukan\n",
      "Processing Record: nyrob\n",
      "Processing Record: winona\n",
      "Processing Record: koutiala\n",
      "Processing Record: baykit\n",
      "Processing Record: talara\n",
      "Processing Record: nekrasovskoye\n",
      "Processing Record: borba\n",
      "Processing Record: kathu\n",
      "City NOT found: velikie luki\n",
      "Processing Record: samarai\n",
      "Processing Record: filingue\n",
      "Processing Record: sangmelima\n",
      "Processing Record: krasnyy yar\n",
      "Processing Record: lasa\n",
      "Processing Record: turukhansk\n",
      "Processing Record: mariental\n",
      "Processing Record: brae\n",
      "Processing Record: benjamin aceval\n",
      "Processing Record: uruguaiana\n",
      "Processing Record: batagay-alyta\n",
      "Processing Record: bukan\n",
      "City NOT found: jiddah\n",
      "Processing Record: alta floresta\n",
      "Processing Record: ternate\n",
      "Processing Record: rio grande\n",
      "Processing Record: porto novo\n",
      "Processing Record: stalowa wola\n",
      "Processing Record: swellendam\n",
      "Processing Record: victoria\n",
      "Processing Record: dalvik\n",
      "Processing Record: la ronge\n",
      "Processing Record: ilhabela\n",
      "Processing Record: kungurtug\n",
      "City NOT found: ust-kamchatsk\n",
      "Processing Record: tema\n",
      "Processing Record: ape\n",
      "Processing Record: hammerfest\n",
      "Processing Record: mitsamiouli\n",
      "Processing Record: urumqi\n",
      "Processing Record: flinders\n",
      "Processing Record: jizan\n",
      "Processing Record: pizarro\n",
      "City NOT found: candawaga\n",
      "Processing Record: zastron\n",
      "Processing Record: alenquer\n",
      "Processing Record: hambantota\n",
      "Processing Record: paamiut\n",
      "Processing Record: monopoli\n",
      "Processing Record: san rafael\n",
      "Processing Record: carauari\n",
      "Processing Record: nara\n",
      "Processing Record: puertollano\n",
      "Processing Record: bainbridge\n",
      "Processing Record: lanxi\n",
      "Processing Record: sept-iles\n",
      "Processing Record: borovoy\n",
      "Processing Record: wagar\n",
      "Processing Record: eirunepe\n",
      "Processing Record: castelo do piaui\n",
      "Processing Record: chimore\n",
      "City NOT found: chagda\n",
      "Processing Record: shimanovsk\n",
      "Processing Record: marsh harbour\n",
      "Processing Record: namtsy\n",
      "Processing Record: valparaiso\n",
      "Processing Record: durres\n",
      "Processing Record: adrar\n",
      "Processing Record: sidi ali\n",
      "Processing Record: san policarpo\n",
      "Processing Record: yermekeyevo\n",
      "Processing Record: tambopata\n",
      "Processing Record: manono\n",
      "Processing Record: hobyo\n",
      "Processing Record: nichinan\n",
      "Processing Record: muna\n",
      "City NOT found: kamenskoye\n",
      "Processing Record: ketchikan\n",
      "Processing Record: rugeley\n",
      "Processing Record: mount isa\n",
      "Processing Record: guangyuan\n",
      "Processing Record: acapulco\n",
      "Processing Record: shitanjing\n",
      "Processing Record: arrecife\n",
      "Processing Record: shunyi\n",
      "Processing Record: katsuura\n",
      "City NOT found: kusk\n",
      "Processing Record: nalvo\n",
      "Processing Record: makakilo city\n",
      "Processing Record: kpandae\n",
      "Processing Record: mapiripan\n",
      "Processing Record: palas\n",
      "Processing Record: yar-sale\n",
      "Processing Record: misratah\n",
      "Processing Record: taunton\n",
      "Processing Record: villaba\n",
      "Processing Record: bolshaya sosnova\n",
      "Processing Record: toul\n",
      "Processing Record: polyanka\n",
      "Processing Record: humenne\n",
      "Processing Record: te anau\n",
      "Processing Record: verkhoyansk\n",
      "Processing Record: burgersdorp\n",
      "Processing Record: cervo\n",
      "Processing Record: tilichiki\n",
      "Processing Record: kjollefjord\n",
      "Processing Record: nkowakowa\n",
      "Processing Record: viedma\n",
      "Processing Record: bereda\n",
      "Processing Record: villanueva de la serena\n",
      "Processing Record: rovaniemi\n",
      "Processing Record: hakodate\n",
      "Processing Record: wanning\n",
      "Processing Record: auki\n",
      "Processing Record: vestmannaeyjar\n",
      "Processing Record: toora-khem\n",
      "Processing Record: novo oriente\n",
      "Processing Record: noshiro\n",
      "Processing Record: estelle\n",
      "Processing Record: chiredzi\n",
      "Processing Record: katangli\n",
      "Processing Record: opunake\n",
      "Processing Record: dingle\n",
      "Processing Record: muroto\n",
      "Processing Record: san jose\n",
      "Processing Record: vallenar\n",
      "Processing Record: sinnamary\n",
      "Processing Record: tautira\n",
      "Processing Record: kuala terengganu\n",
      "Processing Record: turbat\n",
      "Processing Record: pitimbu\n",
      "City NOT found: hvammstangi\n",
      "Processing Record: atambua\n",
      "Processing Record: atar\n",
      "Processing Record: catuday\n",
      "Processing Record: santa rosa\n",
      "Processing Record: jacobabad\n",
      "Processing Record: olafsvik\n",
      "Processing Record: witu\n",
      "Processing Record: fare\n",
      "Processing Record: corrales\n",
      "City NOT found: sataua\n",
      "City NOT found: port-de-paix\n",
      "City NOT found: dekoa\n",
      "Processing Record: yaan\n",
      "Processing Record: srandakan\n",
      "Processing Record: camacha\n",
      "Processing Record: zyryanka\n",
      "Processing Record: jieshi\n",
      "Processing Record: mendoza\n",
      "Processing Record: basco\n",
      "Processing Record: oranjestad\n",
      "Processing Record: atikokan\n",
      "Processing Record: makokou\n",
      "Processing Record: chapais\n",
      "Processing Record: tabou\n",
      "Processing Record: tobermory\n",
      "Processing Record: buraydah\n",
      "City NOT found: tasbuget\n",
      "Processing Record: riohacha\n",
      "Processing Record: kulpahar\n",
      "Processing Record: lorengau\n",
      "Processing Record: wukari\n",
      "Processing Record: gavle\n",
      "City NOT found: ambodifototra\n",
      "Processing Record: ahipara\n",
      "Processing Record: sungaipenuh\n",
      "Processing Record: paveh\n",
      "Processing Record: yurla\n",
      "Processing Record: lappeenranta\n",
      "Processing Record: yuli\n",
      "Processing Record: bar\n",
      "Processing Record: akureyri\n",
      "Processing Record: zhanaozen\n",
      "Processing Record: muyezerskiy\n",
      "Processing Record: nhulunbuy\n",
      "Processing Record: salym\n",
      "Processing Record: ancud\n",
      "Processing Record: birao\n",
      "Processing Record: san patricio\n",
      "Processing Record: carora\n",
      "Processing Record: kilindoni\n",
      "Processing Record: karabash\n",
      "Processing Record: safaga\n",
      "Processing Record: grand gaube\n",
      "Processing Record: dali\n",
      "Processing Record: kothen\n",
      "Processing Record: bonavista\n",
      "Processing Record: isangel\n"
     ]
    },
    {
     "name": "stdout",
     "output_type": "stream",
     "text": [
      "Processing Record: radomsko\n",
      "Processing Record: bethanien\n",
      "Processing Record: high level\n",
      "Processing Record: sao pedro do sul\n",
      "Processing Record: kieta\n",
      "Processing Record: chekhov\n",
      "Processing Record: souillac\n",
      "Processing Record: oktyabrskoye\n",
      "Processing Record: borgarnes\n",
      "Processing Record: chumikan\n",
      "Processing Record: waddan\n",
      "Processing Record: morondava\n",
      "Processing Record: hirara\n",
      "Processing Record: umea\n",
      "Processing Record: mananum\n",
      "Processing Record: gizo\n",
      "Processing Record: acarau\n",
      "Processing Record: buala\n",
      "Processing Record: dir\n",
      "Processing Record: lakes entrance\n",
      "Processing Record: batticaloa\n",
      "Processing Record: villablino\n",
      "Processing Record: inta\n",
      "City NOT found: meyungs\n",
      "City NOT found: warqla\n",
      "Processing Record: keti bandar\n",
      "Processing Record: sao joao da barra\n",
      "Processing Record: elizabeth city\n",
      "Processing Record: bauchi\n",
      "Processing Record: el tigre\n",
      "Complete\n"
     ]
    }
   ],
   "source": [
    "#create url for query with imperial units and city at the end\n",
    "#url from https://openweathermap.org/appid\n",
    "url = \"http://api.openweathermap.org/data/2.5/weather?id=524901\"\n",
    "unit = \"imperial\"\n",
    "query_url = f\"{url}&appid={weather_api_key}&units={unit}&q=\"\n",
    "\n",
    "# Lists for results\n",
    "lat = []\n",
    "lon = []\n",
    "foundCities = []\n",
    "temp = []\n",
    "humidity = []\n",
    "cloudiness = []\n",
    "windSpeed = []\n",
    "date = []\n",
    "country = []\n",
    "\n",
    "for city in cities:\n",
    "    try:\n",
    "        response = requests.get(query_url + city).json()\n",
    "        lat.append(response[\"coord\"][\"lat\"])\n",
    "        lon.append(response[\"coord\"][\"lon\"])\n",
    "        temp.append(response[\"main\"][\"temp_max\"])\n",
    "        humidity.append(response[\"main\"][\"humidity\"])\n",
    "        cloudiness.append(response[\"clouds\"][\"all\"])\n",
    "        windSpeed.append(response[\"wind\"][\"speed\"])\n",
    "        date.append(response[\"dt\"])\n",
    "        country.append(response[\"sys\"][\"country\"])\n",
    "        foundCities.append(city)\n",
    "        print(f\"Processing Record: {city}\")\n",
    "    except:\n",
    "        print(f\"City NOT found: {city}\")\n",
    "print(\"Complete\")"
   ]
  },
  {
   "cell_type": "markdown",
   "metadata": {},
   "source": [
    "### Convert Raw Data to DataFrame\n",
    "* Export the city data into a .csv.\n",
    "* Display the DataFrame"
   ]
  },
  {
   "cell_type": "code",
   "execution_count": 11,
   "metadata": {},
   "outputs": [
    {
     "data": {
      "text/html": [
       "<div>\n",
       "<style scoped>\n",
       "    .dataframe tbody tr th:only-of-type {\n",
       "        vertical-align: middle;\n",
       "    }\n",
       "\n",
       "    .dataframe tbody tr th {\n",
       "        vertical-align: top;\n",
       "    }\n",
       "\n",
       "    .dataframe thead th {\n",
       "        text-align: right;\n",
       "    }\n",
       "</style>\n",
       "<table border=\"1\" class=\"dataframe\">\n",
       "  <thead>\n",
       "    <tr style=\"text-align: right;\">\n",
       "      <th></th>\n",
       "      <th>City</th>\n",
       "      <th>Lat</th>\n",
       "      <th>Lng</th>\n",
       "      <th>Max Temp</th>\n",
       "      <th>Humidity</th>\n",
       "      <th>Cloudiness</th>\n",
       "      <th>Wind speed</th>\n",
       "      <th>Country</th>\n",
       "      <th>Date</th>\n",
       "    </tr>\n",
       "  </thead>\n",
       "  <tbody>\n",
       "    <tr>\n",
       "      <th>0</th>\n",
       "      <td>srednekolymsk</td>\n",
       "      <td>67.4500</td>\n",
       "      <td>153.6833</td>\n",
       "      <td>48.76</td>\n",
       "      <td>64</td>\n",
       "      <td>100</td>\n",
       "      <td>18.12</td>\n",
       "      <td>RU</td>\n",
       "      <td>1623808227</td>\n",
       "    </tr>\n",
       "    <tr>\n",
       "      <th>1</th>\n",
       "      <td>canutama</td>\n",
       "      <td>-6.5339</td>\n",
       "      <td>-64.3831</td>\n",
       "      <td>71.53</td>\n",
       "      <td>98</td>\n",
       "      <td>99</td>\n",
       "      <td>2.84</td>\n",
       "      <td>BR</td>\n",
       "      <td>1623808228</td>\n",
       "    </tr>\n",
       "    <tr>\n",
       "      <th>2</th>\n",
       "      <td>kiunga</td>\n",
       "      <td>-6.1219</td>\n",
       "      <td>141.2906</td>\n",
       "      <td>83.19</td>\n",
       "      <td>75</td>\n",
       "      <td>79</td>\n",
       "      <td>2.98</td>\n",
       "      <td>PG</td>\n",
       "      <td>1623808229</td>\n",
       "    </tr>\n",
       "    <tr>\n",
       "      <th>3</th>\n",
       "      <td>poum</td>\n",
       "      <td>-20.2333</td>\n",
       "      <td>164.0167</td>\n",
       "      <td>75.85</td>\n",
       "      <td>81</td>\n",
       "      <td>31</td>\n",
       "      <td>8.16</td>\n",
       "      <td>NC</td>\n",
       "      <td>1623808229</td>\n",
       "    </tr>\n",
       "    <tr>\n",
       "      <th>4</th>\n",
       "      <td>bambous virieux</td>\n",
       "      <td>-20.3428</td>\n",
       "      <td>57.7575</td>\n",
       "      <td>70.21</td>\n",
       "      <td>100</td>\n",
       "      <td>75</td>\n",
       "      <td>4.61</td>\n",
       "      <td>MU</td>\n",
       "      <td>1623808230</td>\n",
       "    </tr>\n",
       "  </tbody>\n",
       "</table>\n",
       "</div>"
      ],
      "text/plain": [
       "              City      Lat       Lng  Max Temp  Humidity  Cloudiness  \\\n",
       "0    srednekolymsk  67.4500  153.6833     48.76        64         100   \n",
       "1         canutama  -6.5339  -64.3831     71.53        98          99   \n",
       "2           kiunga  -6.1219  141.2906     83.19        75          79   \n",
       "3             poum -20.2333  164.0167     75.85        81          31   \n",
       "4  bambous virieux -20.3428   57.7575     70.21       100          75   \n",
       "\n",
       "   Wind speed Country        Date  \n",
       "0       18.12      RU  1623808227  \n",
       "1        2.84      BR  1623808228  \n",
       "2        2.98      PG  1623808229  \n",
       "3        8.16      NC  1623808229  \n",
       "4        4.61      MU  1623808230  "
      ]
     },
     "execution_count": 11,
     "metadata": {},
     "output_type": "execute_result"
    }
   ],
   "source": [
    "city_weather_df = pd.DataFrame({\"City\": foundCities,\n",
    "                        \"Lat\": lat,\n",
    "                        \"Lng\": lon,\n",
    "                        \"Max Temp\": temp,\n",
    "                        \"Humidity\": humidity,\n",
    "                        \"Cloudiness\": cloudiness,                                                    \n",
    "                        \"Wind speed\":windSpeed,\n",
    "                        \"Country\": country, \n",
    "                        \"Date\": date\n",
    "                          })\n",
    "\n",
    "#Save to file\n",
    "city_weather_df.to_csv(\"../output/cities.csv\", index=True, index_label=\"City\", header=True)\n",
    "\n",
    "#Print dataframe\n",
    "city_weather_df.head()"
   ]
  },
  {
   "cell_type": "code",
   "execution_count": 16,
   "metadata": {},
   "outputs": [
    {
     "data": {
      "text/html": [
       "<div>\n",
       "<style scoped>\n",
       "    .dataframe tbody tr th:only-of-type {\n",
       "        vertical-align: middle;\n",
       "    }\n",
       "\n",
       "    .dataframe tbody tr th {\n",
       "        vertical-align: top;\n",
       "    }\n",
       "\n",
       "    .dataframe thead th {\n",
       "        text-align: right;\n",
       "    }\n",
       "</style>\n",
       "<table border=\"1\" class=\"dataframe\">\n",
       "  <thead>\n",
       "    <tr style=\"text-align: right;\">\n",
       "      <th></th>\n",
       "      <th>Lat</th>\n",
       "      <th>Lng</th>\n",
       "      <th>Max Temp</th>\n",
       "      <th>Humidity</th>\n",
       "      <th>Cloudiness</th>\n",
       "      <th>Wind speed</th>\n",
       "      <th>Date</th>\n",
       "    </tr>\n",
       "  </thead>\n",
       "  <tbody>\n",
       "    <tr>\n",
       "      <th>count</th>\n",
       "      <td>562.000000</td>\n",
       "      <td>562.000000</td>\n",
       "      <td>562.000000</td>\n",
       "      <td>562.000000</td>\n",
       "      <td>562.000000</td>\n",
       "      <td>562.000000</td>\n",
       "      <td>5.620000e+02</td>\n",
       "    </tr>\n",
       "    <tr>\n",
       "      <th>mean</th>\n",
       "      <td>18.398241</td>\n",
       "      <td>14.776316</td>\n",
       "      <td>67.356673</td>\n",
       "      <td>72.113879</td>\n",
       "      <td>59.606762</td>\n",
       "      <td>7.504146</td>\n",
       "      <td>1.623808e+09</td>\n",
       "    </tr>\n",
       "    <tr>\n",
       "      <th>std</th>\n",
       "      <td>33.424806</td>\n",
       "      <td>90.214548</td>\n",
       "      <td>14.718348</td>\n",
       "      <td>19.593585</td>\n",
       "      <td>38.975107</td>\n",
       "      <td>5.529736</td>\n",
       "      <td>1.280985e+02</td>\n",
       "    </tr>\n",
       "    <tr>\n",
       "      <th>min</th>\n",
       "      <td>-54.800000</td>\n",
       "      <td>-179.166700</td>\n",
       "      <td>26.280000</td>\n",
       "      <td>7.000000</td>\n",
       "      <td>0.000000</td>\n",
       "      <td>0.000000</td>\n",
       "      <td>1.623808e+09</td>\n",
       "    </tr>\n",
       "    <tr>\n",
       "      <th>25%</th>\n",
       "      <td>-8.819500</td>\n",
       "      <td>-65.026250</td>\n",
       "      <td>57.232500</td>\n",
       "      <td>62.000000</td>\n",
       "      <td>20.000000</td>\n",
       "      <td>3.440000</td>\n",
       "      <td>1.623808e+09</td>\n",
       "    </tr>\n",
       "    <tr>\n",
       "      <th>50%</th>\n",
       "      <td>19.317250</td>\n",
       "      <td>17.150000</td>\n",
       "      <td>69.540000</td>\n",
       "      <td>76.000000</td>\n",
       "      <td>75.000000</td>\n",
       "      <td>5.990000</td>\n",
       "      <td>1.623808e+09</td>\n",
       "    </tr>\n",
       "    <tr>\n",
       "      <th>75%</th>\n",
       "      <td>48.204125</td>\n",
       "      <td>97.472525</td>\n",
       "      <td>79.207500</td>\n",
       "      <td>87.000000</td>\n",
       "      <td>99.000000</td>\n",
       "      <td>10.057500</td>\n",
       "      <td>1.623809e+09</td>\n",
       "    </tr>\n",
       "    <tr>\n",
       "      <th>max</th>\n",
       "      <td>77.484000</td>\n",
       "      <td>173.858300</td>\n",
       "      <td>106.950000</td>\n",
       "      <td>100.000000</td>\n",
       "      <td>100.000000</td>\n",
       "      <td>32.060000</td>\n",
       "      <td>1.623809e+09</td>\n",
       "    </tr>\n",
       "  </tbody>\n",
       "</table>\n",
       "</div>"
      ],
      "text/plain": [
       "              Lat         Lng    Max Temp    Humidity  Cloudiness  Wind speed  \\\n",
       "count  562.000000  562.000000  562.000000  562.000000  562.000000  562.000000   \n",
       "mean    18.398241   14.776316   67.356673   72.113879   59.606762    7.504146   \n",
       "std     33.424806   90.214548   14.718348   19.593585   38.975107    5.529736   \n",
       "min    -54.800000 -179.166700   26.280000    7.000000    0.000000    0.000000   \n",
       "25%     -8.819500  -65.026250   57.232500   62.000000   20.000000    3.440000   \n",
       "50%     19.317250   17.150000   69.540000   76.000000   75.000000    5.990000   \n",
       "75%     48.204125   97.472525   79.207500   87.000000   99.000000   10.057500   \n",
       "max     77.484000  173.858300  106.950000  100.000000  100.000000   32.060000   \n",
       "\n",
       "               Date  \n",
       "count  5.620000e+02  \n",
       "mean   1.623808e+09  \n",
       "std    1.280985e+02  \n",
       "min    1.623808e+09  \n",
       "25%    1.623808e+09  \n",
       "50%    1.623808e+09  \n",
       "75%    1.623809e+09  \n",
       "max    1.623809e+09  "
      ]
     },
     "execution_count": 16,
     "metadata": {},
     "output_type": "execute_result"
    }
   ],
   "source": [
    "city_weather_df.describe()"
   ]
  },
  {
   "cell_type": "markdown",
   "metadata": {},
   "source": [
    "## Inspect the data and remove the cities where the humidity > 100%.\n",
    "----\n",
    "Skip this step if there are no cities that have humidity > 100%. "
   ]
  },
  {
   "cell_type": "code",
   "execution_count": 5,
   "metadata": {},
   "outputs": [
    {
     "data": {
      "text/html": [
       "<div>\n",
       "<style scoped>\n",
       "    .dataframe tbody tr th:only-of-type {\n",
       "        vertical-align: middle;\n",
       "    }\n",
       "\n",
       "    .dataframe tbody tr th {\n",
       "        vertical-align: top;\n",
       "    }\n",
       "\n",
       "    .dataframe thead th {\n",
       "        text-align: right;\n",
       "    }\n",
       "</style>\n",
       "<table border=\"1\" class=\"dataframe\">\n",
       "  <thead>\n",
       "    <tr style=\"text-align: right;\">\n",
       "      <th></th>\n",
       "      <th>City</th>\n",
       "      <th>Country</th>\n",
       "      <th>Temperature</th>\n",
       "      <th>Humidity</th>\n",
       "      <th>Cloudiness</th>\n",
       "      <th>Windspeed</th>\n",
       "      <th>Latitude</th>\n",
       "      <th>Longitude</th>\n",
       "      <th>Date</th>\n",
       "    </tr>\n",
       "  </thead>\n",
       "  <tbody>\n",
       "  </tbody>\n",
       "</table>\n",
       "</div>"
      ],
      "text/plain": [
       "Empty DataFrame\n",
       "Columns: [City, Country, Temperature, Humidity, Cloudiness, Windspeed, Latitude, Longitude, Date]\n",
       "Index: []"
      ]
     },
     "execution_count": 5,
     "metadata": {},
     "output_type": "execute_result"
    }
   ],
   "source": [
    "humidity_over_100 = city_weather_df[(city_weather_df['Humidity'] > 100)]\n",
    "humidity_over_100"
   ]
  },
  {
   "cell_type": "code",
   "execution_count": 6,
   "metadata": {},
   "outputs": [],
   "source": [
    "#  Get the indices of cities that have humidity over 100%.\n",
    " Humidity100Index = humidity_over_100.index"
   ]
  },
  {
   "cell_type": "code",
   "execution_count": 46,
   "metadata": {},
   "outputs": [],
   "source": [
    "# Make a new DataFrame equal to the city data to drop all humidity outliers by index.\n",
    "# Passing \"inplace=False\" will make a copy of the city_data DataFrame, which we call \"clean_city_data\".\n"
   ]
  },
  {
   "cell_type": "code",
   "execution_count": null,
   "metadata": {},
   "outputs": [],
   "source": [
    "\n"
   ]
  },
  {
   "cell_type": "markdown",
   "metadata": {},
   "source": [
    "## Plotting the Data\n",
    "* Use proper labeling of the plots using plot titles (including date of analysis) and axes labels.\n",
    "* Save the plotted figures as .pngs."
   ]
  },
  {
   "cell_type": "markdown",
   "metadata": {},
   "source": [
    "## Latitude vs. Temperature Plot"
   ]
  },
  {
   "cell_type": "code",
   "execution_count": 17,
   "metadata": {
    "scrolled": true
   },
   "outputs": [
    {
     "data": {
      "image/png": "[encoded data removed]",
      "text/plain": [
       "<Figure size 432x288 with 1 Axes>"
      ]
     },
     "metadata": {
      "needs_background": "light"
     },
     "output_type": "display_data"
    }
   ],
   "source": [
    "plt.scatter(lat, temp, marker=\"o\", facecolors=\"blue\")\n",
    "\n",
    "# --- add labels, title, limits & grid ---\n",
    "plt.title(\"City Latitude vs. Max Temperature (16/06/2021)\", fontsize=14)\n",
    "plt.ylabel(\"Temperature(F)\", fontsize=12)\n",
    "plt.xlabel(\"Latitude\", fontsize=12)\n",
    "plt.grid()\n",
    "\n",
    "# Save and show scatter plot\n",
    "plt.savefig(\"../Images/latitude-vs-temp.png\")\n",
    "plt.show()\n"
   ]
  },
  {
   "cell_type": "markdown",
   "metadata": {},
   "source": [
    "### Analysis\n",
    "Scatterplot (above) for Temperature (F) vs. Latitude shows temperatures North and South of the Equator have lower max temperatures as compared to temperature closer to the Equator. "
   ]
  },
  {
   "cell_type": "markdown",
   "metadata": {},
   "source": [
    "## Latitude vs. Humidity Plot"
   ]
  },
  {
   "cell_type": "code",
   "execution_count": 63,
   "metadata": {},
   "outputs": [
    {
     "data": {
      "image/png": "[encoded data removed]",
      "text/plain": [
       "<Figure size 432x288 with 1 Axes>"
      ]
     },
     "metadata": {
      "needs_background": "light"
     },
     "output_type": "display_data"
    }
   ],
   "source": [
    "plt.scatter(lat, humidity, marker=\"o\", facecolors=\"blue\")\n",
    "\n",
    "# --- add labels, title, limits & grid ---\n",
    "plt.title(\"City Latitude vs. Humidity\", fontsize=14)\n",
    "plt.ylabel(\"Humidity (%)\", fontsize=12)\n",
    "plt.xlabel(\"Latitude\", fontsize=12)\n",
    "plt.grid()\n",
    "\n",
    "# --- display and save the plot ---\n",
    "plt.savefig(\"../Images/latitude-vs-humidity.png\")\n",
    "plt.show()"
   ]
  },
  {
   "cell_type": "code",
   "execution_count": null,
   "metadata": {},
   "outputs": [],
   "source": [
    "### Analysis \n",
    "There seems to be no correlation between City Latitude and Humidity levels for randomly selected cities."
   ]
  },
  {
   "cell_type": "markdown",
   "metadata": {},
   "source": [
    "## Latitude vs. Cloudiness Plot"
   ]
  },
  {
   "cell_type": "code",
   "execution_count": 65,
   "metadata": {},
   "outputs": [
    {
     "data": {
      "image/png": "[encoded data removed]",
      "text/plain": [
       "<Figure size 432x288 with 1 Axes>"
      ]
     },
     "metadata": {
      "needs_background": "light"
     },
     "output_type": "display_data"
    }
   ],
   "source": [
    "plt.scatter(lat, cloudiness, marker=\"o\", facecolors=\"blue\")\n",
    "\n",
    "# --- add labels, title, limits & grid ---\n",
    "plt.title(\"Latitude vs. Cloudiness\", fontsize=14)\n",
    "plt.ylabel(\"Cloudiness\", fontsize=12)\n",
    "plt.xlabel(\"Latitude\", fontsize=12)\n",
    "plt.grid()\n",
    "\n",
    "# --- display and save the plot ---\n",
    "plt.savefig(\"../Images/latitude-vs-cloudiness.png\")\n",
    "plt.show()\n"
   ]
  },
  {
   "cell_type": "code",
   "execution_count": null,
   "metadata": {},
   "outputs": [],
   "source": [
    "### Analysis\n",
    "There seems to be no correlation between Latitude and Cloudiness "
   ]
  },
  {
   "cell_type": "markdown",
   "metadata": {},
   "source": [
    "## Latitude vs. Wind Speed Plot"
   ]
  },
  {
   "cell_type": "code",
   "execution_count": 66,
   "metadata": {},
   "outputs": [
    {
     "data": {
      "image/png": "[encoded data removed]",
      "text/plain": [
       "<Figure size 432x288 with 1 Axes>"
      ]
     },
     "metadata": {
      "needs_background": "light"
     },
     "output_type": "display_data"
    }
   ],
   "source": [
    "plt.scatter(lat, windSpeed, marker=\"o\", facecolors=\"blue\")\n",
    "\n",
    "# --- add labels, title, limits & grid ---\n",
    "plt.title(\"Latitude vs. Cloudiness\", fontsize=14)\n",
    "plt.ylabel(\"Wind Speed\", fontsize=12)\n",
    "plt.xlabel(\"Latitude\", fontsize=12)\n",
    "plt.grid()\n",
    "\n",
    "# --- display and save the plot ---\n",
    "plt.savefig(\"../Images/latitude-vs-cloudiness.png\")\n",
    "plt.show()"
   ]
  },
  {
   "cell_type": "code",
   "execution_count": null,
   "metadata": {},
   "outputs": [],
   "source": [
    "### Analysis\n",
    "No correlation between Latitude and cloudiness. However wind speed during this time of the year is low."
   ]
  },
  {
   "cell_type": "markdown",
   "metadata": {},
   "source": [
    "## Linear Regression"
   ]
  },
  {
   "cell_type": "code",
   "execution_count": 77,
   "metadata": {},
   "outputs": [],
   "source": [
    "\n"
   ]
  },
  {
   "cell_type": "markdown",
   "metadata": {},
   "source": [
    "####  Northern Hemisphere - Max Temp vs. Latitude Linear Regression"
   ]
  },
  {
   "cell_type": "code",
   "execution_count": 78,
   "metadata": {},
   "outputs": [
    {
     "name": "stdout",
     "output_type": "stream",
     "text": [
      "The r-square is -0.7259066947934789\n",
      "y = -0.53x + 88.85\n"
     ]
    },
    {
     "data": {
      "image/png": "[encoded data removed]",
      "text/plain": [
       "<Figure size 432x288 with 1 Axes>"
      ]
     },
     "metadata": {
      "needs_background": "light"
     },
     "output_type": "display_data"
    }
   ],
   "source": []
  },
  {
   "cell_type": "markdown",
   "metadata": {},
   "source": [
    "####  Southern Hemisphere - Max Temp vs. Latitude Linear Regression"
   ]
  },
  {
   "cell_type": "code",
   "execution_count": 79,
   "metadata": {},
   "outputs": [
    {
     "name": "stdout",
     "output_type": "stream",
     "text": [
      "The r-square is 0.7448246556771979\n",
      "y = 0.75x + 80.48\n"
     ]
    },
    {
     "data": {
      "image/png": "[encoded data removed]",
      "text/plain": [
       "<Figure size 432x288 with 1 Axes>"
      ]
     },
     "metadata": {
      "needs_background": "light"
     },
     "output_type": "display_data"
    }
   ],
   "source": []
  },
  {
   "cell_type": "markdown",
   "metadata": {},
   "source": [
    "####  Northern Hemisphere - Humidity (%) vs. Latitude Linear Regression"
   ]
  },
  {
   "cell_type": "code",
   "execution_count": 85,
   "metadata": {},
   "outputs": [
    {
     "name": "stdout",
     "output_type": "stream",
     "text": [
      "The r-square is -0.09988438118802952\n",
      "y = -0.1x + 74.48\n"
     ]
    },
    {
     "data": {
      "image/png": "[encoded data removed]",
      "text/plain": [
       "<Figure size 432x288 with 1 Axes>"
      ]
     },
     "metadata": {
      "needs_background": "light"
     },
     "output_type": "display_data"
    }
   ],
   "source": []
  },
  {
   "cell_type": "markdown",
   "metadata": {},
   "source": [
    "####  Southern Hemisphere - Humidity (%) vs. Latitude Linear Regression"
   ]
  },
  {
   "cell_type": "code",
   "execution_count": 28,
   "metadata": {},
   "outputs": [
    {
     "name": "stdout",
     "output_type": "stream",
     "text": [
      "The r-value is: 0.014985174297345524\n"
     ]
    },
    {
     "data": {
      "image/png": "[encoded data removed]",
      "text/plain": [
       "<Figure size 432x288 with 1 Axes>"
      ]
     },
     "metadata": {
      "needs_background": "light"
     },
     "output_type": "display_data"
    }
   ],
   "source": []
  },
  {
   "cell_type": "markdown",
   "metadata": {},
   "source": [
    "####  Northern Hemisphere - Cloudiness (%) vs. Latitude Linear Regression"
   ]
  },
  {
   "cell_type": "code",
   "execution_count": 29,
   "metadata": {},
   "outputs": [
    {
     "name": "stdout",
     "output_type": "stream",
     "text": [
      "The r-value is: 0.0020898727664228514\n"
     ]
    },
    {
     "data": {
      "image/png": "[encoded data removed]",
      "text/plain": [
       "<Figure size 432x288 with 1 Axes>"
      ]
     },
     "metadata": {
      "needs_background": "light"
     },
     "output_type": "display_data"
    }
   ],
   "source": []
  },
  {
   "cell_type": "markdown",
   "metadata": {},
   "source": [
    "####  Southern Hemisphere - Cloudiness (%) vs. Latitude Linear Regression"
   ]
  },
  {
   "cell_type": "code",
   "execution_count": 30,
   "metadata": {},
   "outputs": [
    {
     "name": "stdout",
     "output_type": "stream",
     "text": [
      "The r-value is: 0.0035263772085582894\n"
     ]
    },
    {
     "data": {
      "image/png": "[encoded data removed]",
      "text/plain": [
       "<Figure size 432x288 with 1 Axes>"
      ]
     },
     "metadata": {
      "needs_background": "light"
     },
     "output_type": "display_data"
    }
   ],
   "source": []
  },
  {
   "cell_type": "markdown",
   "metadata": {},
   "source": [
    "####  Northern Hemisphere - Wind Speed (mph) vs. Latitude Linear Regression"
   ]
  },
  {
   "cell_type": "code",
   "execution_count": 31,
   "metadata": {},
   "outputs": [
    {
     "name": "stdout",
     "output_type": "stream",
     "text": [
      "The r-value is: 0.04019723576144484\n"
     ]
    },
    {
     "data": {
      "image/png": "[encoded data removed]",
      "text/plain": [
       "<Figure size 432x288 with 1 Axes>"
      ]
     },
     "metadata": {
      "needs_background": "light"
     },
     "output_type": "display_data"
    }
   ],
   "source": []
  },
  {
   "cell_type": "markdown",
   "metadata": {},
   "source": [
    "####  Southern Hemisphere - Wind Speed (mph) vs. Latitude Linear Regression"
   ]
  },
  {
   "cell_type": "code",
   "execution_count": 32,
   "metadata": {},
   "outputs": [
    {
     "name": "stdout",
     "output_type": "stream",
     "text": [
      "The r-value is: 0.017128274759839232\n"
     ]
    },
    {
     "data": {
      "image/png": "[encoded data removed]",
      "text/plain": [
       "<Figure size 432x288 with 1 Axes>"
      ]
     },
     "metadata": {
      "needs_background": "light"
     },
     "output_type": "display_data"
    }
   ],
   "source": []
  },
  {
   "cell_type": "code",
   "execution_count": null,
   "metadata": {},
   "outputs": [],
   "source": []
  }
 ],
 "metadata": {
  "anaconda-cloud": {},
  "kernel_info": {
   "name": "python3"
  },
  "kernelspec": {
   "display_name": "PythonData",
   "language": "python",
   "name": "pythondata"
  },
  "language_info": {
   "codemirror_mode": {
    "name": "ipython",
    "version": 3
   },
   "file_extension": ".py",
   "mimetype": "text/x-python",
   "name": "python",
   "nbconvert_exporter": "python",
   "pygments_lexer": "ipython3",
   "version": "3.6.10"
  },
  "latex_envs": {
   "LaTeX_envs_menu_present": true,
   "autoclose": false,
   "autocomplete": true,
   "bibliofile": "biblio.bib",
   "cite_by": "apalike",
   "current_citInitial": 1,
   "eqLabelWithNumbers": true,
   "eqNumInitial": 1,
   "hotkeys": {
    "equation": "Ctrl-E",
    "itemize": "Ctrl-I"
   },
   "labels_anchors": false,
   "latex_user_defs": false,
   "report_style_numbering": false,
   "user_envs_cfg": false
  },
  "nteract": {
   "version": "0.12.3"
  }
 },
 "nbformat": 4,
 "nbformat_minor": 4
}
